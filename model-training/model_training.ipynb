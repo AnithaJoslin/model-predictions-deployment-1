{
 "cells": [
  {
   "cell_type": "code",
   "execution_count": 1,
   "id": "0d382262-25f4-451b-9a72-f59632ecd21e",
   "metadata": {
    "tags": []
   },
   "outputs": [],
   "source": [
    "import numpy as np\n",
    "import pandas as pd\n",
    "from sklearn.datasets import load_breast_cancer\n",
    "from sklearn.model_selection import train_test_split\n",
    "import statsmodels.api as sm\n",
    "from sklearn.linear_model import LogisticRegression\n",
    "from sklearn.ensemble import RandomForestClassifier\n",
    "from sklearn.decomposition import PCA\n",
    "from sklearn.preprocessing import StandardScaler, MinMaxScaler\n",
    "from sklearn.metrics import (roc_curve, confusion_matrix, ConfusionMatrixDisplay, \n",
    "                             auc, precision_score, recall_score, f1_score)\n",
    "import seaborn as sns\n",
    "import matplotlib.pyplot as plt\n"
   ]
  },
  {
   "cell_type": "code",
   "execution_count": 2,
   "id": "2e5d4732-3ba2-404d-ba46-c52def45b86e",
   "metadata": {
    "tags": []
   },
   "outputs": [],
   "source": [
    "pd.set_option('display.max_columns', None)"
   ]
  },
  {
   "cell_type": "code",
   "execution_count": 3,
   "id": "0a06eb8a-d63a-49e9-9301-d93f388d5792",
   "metadata": {
    "tags": []
   },
   "outputs": [],
   "source": [
    "def get_model_metrics(model, X_test, y_test):\n",
    "    y_pred = np.round(model.predict(X_test))\n",
    "    \n",
    "    fpr, tpr, threshold = roc_curve(y_test, y_pred)\n",
    "    area_under_curve = auc(tpr, fpr)\n",
    "    print(area_under_curve)\n",
    "    plt.plot(fpr, tpr)\n",
    "    plt.show()\n",
    "    \n",
    "    # dcm = plt.figure(figsize=(5, 5))\n",
    "    cm = confusion_matrix(y_test, y_pred)\n",
    "    disp = ConfusionMatrixDisplay(cm)\n",
    "    disp.plot()\n",
    "    plt.show()\n",
    "    \n",
    "    print(f'Precision: {precision_score(y_test, y_pred)}\\nRecall: {recall_score(y_test, y_pred)}\\nF1 Score: {f1_score(y_test, y_pred)}')"
   ]
  },
  {
   "cell_type": "code",
   "execution_count": 4,
   "id": "549a57ed-0c4f-4e7f-a620-6455ebb6eb7d",
   "metadata": {
    "tags": []
   },
   "outputs": [],
   "source": [
    "data_X, data_y = load_breast_cancer(return_X_y=True, as_frame=True)"
   ]
  },
  {
   "cell_type": "code",
   "execution_count": 5,
   "id": "2a4a0ee8-58fd-4eec-8c37-359bc578f43f",
   "metadata": {
    "tags": []
   },
   "outputs": [
    {
     "data": {
      "text/plain": [
       "mean radius                0\n",
       "mean texture               0\n",
       "mean perimeter             0\n",
       "mean area                  0\n",
       "mean smoothness            0\n",
       "mean compactness           0\n",
       "mean concavity             0\n",
       "mean concave points        0\n",
       "mean symmetry              0\n",
       "mean fractal dimension     0\n",
       "radius error               0\n",
       "texture error              0\n",
       "perimeter error            0\n",
       "area error                 0\n",
       "smoothness error           0\n",
       "compactness error          0\n",
       "concavity error            0\n",
       "concave points error       0\n",
       "symmetry error             0\n",
       "fractal dimension error    0\n",
       "worst radius               0\n",
       "worst texture              0\n",
       "worst perimeter            0\n",
       "worst area                 0\n",
       "worst smoothness           0\n",
       "worst compactness          0\n",
       "worst concavity            0\n",
       "worst concave points       0\n",
       "worst symmetry             0\n",
       "worst fractal dimension    0\n",
       "dtype: int64"
      ]
     },
     "execution_count": 5,
     "metadata": {},
     "output_type": "execute_result"
    }
   ],
   "source": [
    "data_X.isnull().sum()"
   ]
  },
  {
   "cell_type": "code",
   "execution_count": 6,
   "id": "c8482f15-80ba-4e23-b73d-d9c965788802",
   "metadata": {
    "tags": []
   },
   "outputs": [],
   "source": [
    "X_train, X_test, y_train, y_test = train_test_split(data_X, data_y, test_size=0.2, random_state=2)"
   ]
  },
  {
   "cell_type": "code",
   "execution_count": 7,
   "id": "c424d280-46d6-4bab-9e47-9545eb51626e",
   "metadata": {
    "tags": []
   },
   "outputs": [],
   "source": [
    "scalar = MinMaxScaler()"
   ]
  },
  {
   "cell_type": "code",
   "execution_count": 8,
   "id": "8d541398-568c-4ca7-9c7a-88bf3e5dd99d",
   "metadata": {
    "tags": []
   },
   "outputs": [],
   "source": [
    "X_train_standard = pd.DataFrame(scalar.fit_transform(X_train), columns=X_train.columns, index=X_train.index)"
   ]
  },
  {
   "cell_type": "code",
   "execution_count": 9,
   "id": "61455836-9a66-44b2-aeea-d5496528d95d",
   "metadata": {
    "tags": []
   },
   "outputs": [
    {
     "data": {
      "text/html": [
       "<div>\n",
       "<style scoped>\n",
       "    .dataframe tbody tr th:only-of-type {\n",
       "        vertical-align: middle;\n",
       "    }\n",
       "\n",
       "    .dataframe tbody tr th {\n",
       "        vertical-align: top;\n",
       "    }\n",
       "\n",
       "    .dataframe thead th {\n",
       "        text-align: right;\n",
       "    }\n",
       "</style>\n",
       "<table border=\"1\" class=\"dataframe\">\n",
       "  <thead>\n",
       "    <tr style=\"text-align: right;\">\n",
       "      <th></th>\n",
       "      <th>mean radius</th>\n",
       "      <th>mean texture</th>\n",
       "      <th>mean perimeter</th>\n",
       "      <th>mean area</th>\n",
       "      <th>mean smoothness</th>\n",
       "      <th>mean compactness</th>\n",
       "      <th>mean concavity</th>\n",
       "      <th>mean concave points</th>\n",
       "      <th>mean symmetry</th>\n",
       "      <th>mean fractal dimension</th>\n",
       "      <th>radius error</th>\n",
       "      <th>texture error</th>\n",
       "      <th>perimeter error</th>\n",
       "      <th>area error</th>\n",
       "      <th>smoothness error</th>\n",
       "      <th>compactness error</th>\n",
       "      <th>concavity error</th>\n",
       "      <th>concave points error</th>\n",
       "      <th>symmetry error</th>\n",
       "      <th>fractal dimension error</th>\n",
       "      <th>worst radius</th>\n",
       "      <th>worst texture</th>\n",
       "      <th>worst perimeter</th>\n",
       "      <th>worst area</th>\n",
       "      <th>worst smoothness</th>\n",
       "      <th>worst compactness</th>\n",
       "      <th>worst concavity</th>\n",
       "      <th>worst concave points</th>\n",
       "      <th>worst symmetry</th>\n",
       "      <th>worst fractal dimension</th>\n",
       "    </tr>\n",
       "  </thead>\n",
       "  <tbody>\n",
       "    <tr>\n",
       "      <th>count</th>\n",
       "      <td>455.000000</td>\n",
       "      <td>455.000000</td>\n",
       "      <td>455.000000</td>\n",
       "      <td>455.000000</td>\n",
       "      <td>455.000000</td>\n",
       "      <td>455.000000</td>\n",
       "      <td>455.000000</td>\n",
       "      <td>455.000000</td>\n",
       "      <td>455.000000</td>\n",
       "      <td>455.000000</td>\n",
       "      <td>455.000000</td>\n",
       "      <td>455.000000</td>\n",
       "      <td>455.000000</td>\n",
       "      <td>455.000000</td>\n",
       "      <td>455.000000</td>\n",
       "      <td>455.000000</td>\n",
       "      <td>455.000000</td>\n",
       "      <td>455.000000</td>\n",
       "      <td>455.000000</td>\n",
       "      <td>455.000000</td>\n",
       "      <td>455.000000</td>\n",
       "      <td>455.000000</td>\n",
       "      <td>455.000000</td>\n",
       "      <td>455.000000</td>\n",
       "      <td>455.000000</td>\n",
       "      <td>455.000000</td>\n",
       "      <td>455.000000</td>\n",
       "      <td>455.000000</td>\n",
       "      <td>455.000000</td>\n",
       "      <td>455.000000</td>\n",
       "    </tr>\n",
       "    <tr>\n",
       "      <th>mean</th>\n",
       "      <td>0.336775</td>\n",
       "      <td>0.326764</td>\n",
       "      <td>0.331365</td>\n",
       "      <td>0.215502</td>\n",
       "      <td>0.391821</td>\n",
       "      <td>0.248518</td>\n",
       "      <td>0.203139</td>\n",
       "      <td>0.238499</td>\n",
       "      <td>0.341707</td>\n",
       "      <td>0.279530</td>\n",
       "      <td>0.103561</td>\n",
       "      <td>0.188456</td>\n",
       "      <td>0.097014</td>\n",
       "      <td>0.060933</td>\n",
       "      <td>0.179146</td>\n",
       "      <td>0.167873</td>\n",
       "      <td>0.101858</td>\n",
       "      <td>0.284161</td>\n",
       "      <td>0.152789</td>\n",
       "      <td>0.129685</td>\n",
       "      <td>0.293621</td>\n",
       "      <td>0.366984</td>\n",
       "      <td>0.280153</td>\n",
       "      <td>0.167870</td>\n",
       "      <td>0.400485</td>\n",
       "      <td>0.219101</td>\n",
       "      <td>0.215039</td>\n",
       "      <td>0.390855</td>\n",
       "      <td>0.326911</td>\n",
       "      <td>0.188042</td>\n",
       "    </tr>\n",
       "    <tr>\n",
       "      <th>std</th>\n",
       "      <td>0.166382</td>\n",
       "      <td>0.148281</td>\n",
       "      <td>0.167792</td>\n",
       "      <td>0.150002</td>\n",
       "      <td>0.128695</td>\n",
       "      <td>0.162092</td>\n",
       "      <td>0.181304</td>\n",
       "      <td>0.191876</td>\n",
       "      <td>0.142603</td>\n",
       "      <td>0.150284</td>\n",
       "      <td>0.101254</td>\n",
       "      <td>0.119739</td>\n",
       "      <td>0.096463</td>\n",
       "      <td>0.087126</td>\n",
       "      <td>0.102755</td>\n",
       "      <td>0.133003</td>\n",
       "      <td>0.086115</td>\n",
       "      <td>0.143214</td>\n",
       "      <td>0.116267</td>\n",
       "      <td>0.109516</td>\n",
       "      <td>0.168836</td>\n",
       "      <td>0.165877</td>\n",
       "      <td>0.164261</td>\n",
       "      <td>0.136409</td>\n",
       "      <td>0.153549</td>\n",
       "      <td>0.151440</td>\n",
       "      <td>0.165697</td>\n",
       "      <td>0.225748</td>\n",
       "      <td>0.151369</td>\n",
       "      <td>0.118683</td>\n",
       "    </tr>\n",
       "    <tr>\n",
       "      <th>min</th>\n",
       "      <td>0.000000</td>\n",
       "      <td>0.000000</td>\n",
       "      <td>0.000000</td>\n",
       "      <td>0.000000</td>\n",
       "      <td>0.000000</td>\n",
       "      <td>0.000000</td>\n",
       "      <td>0.000000</td>\n",
       "      <td>0.000000</td>\n",
       "      <td>0.000000</td>\n",
       "      <td>0.000000</td>\n",
       "      <td>0.000000</td>\n",
       "      <td>0.000000</td>\n",
       "      <td>0.000000</td>\n",
       "      <td>0.000000</td>\n",
       "      <td>0.000000</td>\n",
       "      <td>0.000000</td>\n",
       "      <td>0.000000</td>\n",
       "      <td>0.000000</td>\n",
       "      <td>0.000000</td>\n",
       "      <td>0.000000</td>\n",
       "      <td>0.000000</td>\n",
       "      <td>0.000000</td>\n",
       "      <td>0.000000</td>\n",
       "      <td>0.000000</td>\n",
       "      <td>0.000000</td>\n",
       "      <td>0.000000</td>\n",
       "      <td>0.000000</td>\n",
       "      <td>0.000000</td>\n",
       "      <td>0.000000</td>\n",
       "      <td>0.000000</td>\n",
       "    </tr>\n",
       "    <tr>\n",
       "      <th>25%</th>\n",
       "      <td>0.225472</td>\n",
       "      <td>0.218465</td>\n",
       "      <td>0.218955</td>\n",
       "      <td>0.119173</td>\n",
       "      <td>0.295342</td>\n",
       "      <td>0.124472</td>\n",
       "      <td>0.066448</td>\n",
       "      <td>0.098807</td>\n",
       "      <td>0.240790</td>\n",
       "      <td>0.171326</td>\n",
       "      <td>0.043455</td>\n",
       "      <td>0.103673</td>\n",
       "      <td>0.039438</td>\n",
       "      <td>0.020364</td>\n",
       "      <td>0.112911</td>\n",
       "      <td>0.073519</td>\n",
       "      <td>0.047778</td>\n",
       "      <td>0.183863</td>\n",
       "      <td>0.076127</td>\n",
       "      <td>0.060833</td>\n",
       "      <td>0.182319</td>\n",
       "      <td>0.241738</td>\n",
       "      <td>0.169481</td>\n",
       "      <td>0.081265</td>\n",
       "      <td>0.289771</td>\n",
       "      <td>0.111923</td>\n",
       "      <td>0.087061</td>\n",
       "      <td>0.216362</td>\n",
       "      <td>0.227054</td>\n",
       "      <td>0.105325</td>\n",
       "    </tr>\n",
       "    <tr>\n",
       "      <th>50%</th>\n",
       "      <td>0.300961</td>\n",
       "      <td>0.310450</td>\n",
       "      <td>0.294036</td>\n",
       "      <td>0.170901</td>\n",
       "      <td>0.381782</td>\n",
       "      <td>0.212387</td>\n",
       "      <td>0.140558</td>\n",
       "      <td>0.165308</td>\n",
       "      <td>0.333155</td>\n",
       "      <td>0.251583</td>\n",
       "      <td>0.072931</td>\n",
       "      <td>0.169466</td>\n",
       "      <td>0.069641</td>\n",
       "      <td>0.031972</td>\n",
       "      <td>0.155726</td>\n",
       "      <td>0.132248</td>\n",
       "      <td>0.085122</td>\n",
       "      <td>0.266504</td>\n",
       "      <td>0.128154</td>\n",
       "      <td>0.101761</td>\n",
       "      <td>0.250089</td>\n",
       "      <td>0.359275</td>\n",
       "      <td>0.235320</td>\n",
       "      <td>0.123206</td>\n",
       "      <td>0.392459</td>\n",
       "      <td>0.177363</td>\n",
       "      <td>0.179473</td>\n",
       "      <td>0.344816</td>\n",
       "      <td>0.304930</td>\n",
       "      <td>0.157528</td>\n",
       "    </tr>\n",
       "    <tr>\n",
       "      <th>75%</th>\n",
       "      <td>0.414549</td>\n",
       "      <td>0.411904</td>\n",
       "      <td>0.412618</td>\n",
       "      <td>0.262142</td>\n",
       "      <td>0.470073</td>\n",
       "      <td>0.332370</td>\n",
       "      <td>0.291940</td>\n",
       "      <td>0.340656</td>\n",
       "      <td>0.418847</td>\n",
       "      <td>0.353243</td>\n",
       "      <td>0.124407</td>\n",
       "      <td>0.246486</td>\n",
       "      <td>0.114074</td>\n",
       "      <td>0.068226</td>\n",
       "      <td>0.216830</td>\n",
       "      <td>0.223004</td>\n",
       "      <td>0.134217</td>\n",
       "      <td>0.359658</td>\n",
       "      <td>0.196194</td>\n",
       "      <td>0.164610</td>\n",
       "      <td>0.372821</td>\n",
       "      <td>0.478945</td>\n",
       "      <td>0.366253</td>\n",
       "      <td>0.207752</td>\n",
       "      <td>0.494156</td>\n",
       "      <td>0.304945</td>\n",
       "      <td>0.307748</td>\n",
       "      <td>0.553910</td>\n",
       "      <td>0.397598</td>\n",
       "      <td>0.241874</td>\n",
       "    </tr>\n",
       "    <tr>\n",
       "      <th>max</th>\n",
       "      <td>1.000000</td>\n",
       "      <td>1.000000</td>\n",
       "      <td>1.000000</td>\n",
       "      <td>1.000000</td>\n",
       "      <td>1.000000</td>\n",
       "      <td>1.000000</td>\n",
       "      <td>1.000000</td>\n",
       "      <td>1.000000</td>\n",
       "      <td>1.000000</td>\n",
       "      <td>1.000000</td>\n",
       "      <td>1.000000</td>\n",
       "      <td>1.000000</td>\n",
       "      <td>1.000000</td>\n",
       "      <td>1.000000</td>\n",
       "      <td>1.000000</td>\n",
       "      <td>1.000000</td>\n",
       "      <td>1.000000</td>\n",
       "      <td>1.000000</td>\n",
       "      <td>1.000000</td>\n",
       "      <td>1.000000</td>\n",
       "      <td>1.000000</td>\n",
       "      <td>1.000000</td>\n",
       "      <td>1.000000</td>\n",
       "      <td>1.000000</td>\n",
       "      <td>1.000000</td>\n",
       "      <td>1.000000</td>\n",
       "      <td>1.000000</td>\n",
       "      <td>1.000000</td>\n",
       "      <td>1.000000</td>\n",
       "      <td>1.000000</td>\n",
       "    </tr>\n",
       "  </tbody>\n",
       "</table>\n",
       "</div>"
      ],
      "text/plain": [
       "       mean radius  mean texture  mean perimeter   mean area  mean smoothness  \\\n",
       "count   455.000000    455.000000      455.000000  455.000000       455.000000   \n",
       "mean      0.336775      0.326764        0.331365    0.215502         0.391821   \n",
       "std       0.166382      0.148281        0.167792    0.150002         0.128695   \n",
       "min       0.000000      0.000000        0.000000    0.000000         0.000000   \n",
       "25%       0.225472      0.218465        0.218955    0.119173         0.295342   \n",
       "50%       0.300961      0.310450        0.294036    0.170901         0.381782   \n",
       "75%       0.414549      0.411904        0.412618    0.262142         0.470073   \n",
       "max       1.000000      1.000000        1.000000    1.000000         1.000000   \n",
       "\n",
       "       mean compactness  mean concavity  mean concave points  mean symmetry  \\\n",
       "count        455.000000      455.000000           455.000000     455.000000   \n",
       "mean           0.248518        0.203139             0.238499       0.341707   \n",
       "std            0.162092        0.181304             0.191876       0.142603   \n",
       "min            0.000000        0.000000             0.000000       0.000000   \n",
       "25%            0.124472        0.066448             0.098807       0.240790   \n",
       "50%            0.212387        0.140558             0.165308       0.333155   \n",
       "75%            0.332370        0.291940             0.340656       0.418847   \n",
       "max            1.000000        1.000000             1.000000       1.000000   \n",
       "\n",
       "       mean fractal dimension  radius error  texture error  perimeter error  \\\n",
       "count              455.000000    455.000000     455.000000       455.000000   \n",
       "mean                 0.279530      0.103561       0.188456         0.097014   \n",
       "std                  0.150284      0.101254       0.119739         0.096463   \n",
       "min                  0.000000      0.000000       0.000000         0.000000   \n",
       "25%                  0.171326      0.043455       0.103673         0.039438   \n",
       "50%                  0.251583      0.072931       0.169466         0.069641   \n",
       "75%                  0.353243      0.124407       0.246486         0.114074   \n",
       "max                  1.000000      1.000000       1.000000         1.000000   \n",
       "\n",
       "       area error  smoothness error  compactness error  concavity error  \\\n",
       "count  455.000000        455.000000         455.000000       455.000000   \n",
       "mean     0.060933          0.179146           0.167873         0.101858   \n",
       "std      0.087126          0.102755           0.133003         0.086115   \n",
       "min      0.000000          0.000000           0.000000         0.000000   \n",
       "25%      0.020364          0.112911           0.073519         0.047778   \n",
       "50%      0.031972          0.155726           0.132248         0.085122   \n",
       "75%      0.068226          0.216830           0.223004         0.134217   \n",
       "max      1.000000          1.000000           1.000000         1.000000   \n",
       "\n",
       "       concave points error  symmetry error  fractal dimension error  \\\n",
       "count            455.000000      455.000000               455.000000   \n",
       "mean               0.284161        0.152789                 0.129685   \n",
       "std                0.143214        0.116267                 0.109516   \n",
       "min                0.000000        0.000000                 0.000000   \n",
       "25%                0.183863        0.076127                 0.060833   \n",
       "50%                0.266504        0.128154                 0.101761   \n",
       "75%                0.359658        0.196194                 0.164610   \n",
       "max                1.000000        1.000000                 1.000000   \n",
       "\n",
       "       worst radius  worst texture  worst perimeter  worst area  \\\n",
       "count    455.000000     455.000000       455.000000  455.000000   \n",
       "mean       0.293621       0.366984         0.280153    0.167870   \n",
       "std        0.168836       0.165877         0.164261    0.136409   \n",
       "min        0.000000       0.000000         0.000000    0.000000   \n",
       "25%        0.182319       0.241738         0.169481    0.081265   \n",
       "50%        0.250089       0.359275         0.235320    0.123206   \n",
       "75%        0.372821       0.478945         0.366253    0.207752   \n",
       "max        1.000000       1.000000         1.000000    1.000000   \n",
       "\n",
       "       worst smoothness  worst compactness  worst concavity  \\\n",
       "count        455.000000         455.000000       455.000000   \n",
       "mean           0.400485           0.219101         0.215039   \n",
       "std            0.153549           0.151440         0.165697   \n",
       "min            0.000000           0.000000         0.000000   \n",
       "25%            0.289771           0.111923         0.087061   \n",
       "50%            0.392459           0.177363         0.179473   \n",
       "75%            0.494156           0.304945         0.307748   \n",
       "max            1.000000           1.000000         1.000000   \n",
       "\n",
       "       worst concave points  worst symmetry  worst fractal dimension  \n",
       "count            455.000000      455.000000               455.000000  \n",
       "mean               0.390855        0.326911                 0.188042  \n",
       "std                0.225748        0.151369                 0.118683  \n",
       "min                0.000000        0.000000                 0.000000  \n",
       "25%                0.216362        0.227054                 0.105325  \n",
       "50%                0.344816        0.304930                 0.157528  \n",
       "75%                0.553910        0.397598                 0.241874  \n",
       "max                1.000000        1.000000                 1.000000  "
      ]
     },
     "execution_count": 9,
     "metadata": {},
     "output_type": "execute_result"
    }
   ],
   "source": [
    "X_train_standard.describe()"
   ]
  },
  {
   "cell_type": "code",
   "execution_count": 10,
   "id": "1e1c1630-4de4-4e0f-a108-9395f40da26b",
   "metadata": {
    "tags": []
   },
   "outputs": [],
   "source": [
    "from statsmodels.stats.outliers_influence import variance_inflation_factor"
   ]
  },
  {
   "cell_type": "code",
   "execution_count": 11,
   "id": "52674e85-e4af-41d1-b13e-112b0c9caad4",
   "metadata": {
    "tags": []
   },
   "outputs": [],
   "source": [
    "X_const = sm.add_constant(X_train_standard)"
   ]
  },
  {
   "cell_type": "code",
   "execution_count": 12,
   "id": "6c978dbb-9be2-4263-bb91-c6906f02d694",
   "metadata": {
    "tags": []
   },
   "outputs": [
    {
     "data": {
      "text/html": [
       "<div>\n",
       "<style scoped>\n",
       "    .dataframe tbody tr th:only-of-type {\n",
       "        vertical-align: middle;\n",
       "    }\n",
       "\n",
       "    .dataframe tbody tr th {\n",
       "        vertical-align: top;\n",
       "    }\n",
       "\n",
       "    .dataframe thead th {\n",
       "        text-align: right;\n",
       "    }\n",
       "</style>\n",
       "<table border=\"1\" class=\"dataframe\">\n",
       "  <thead>\n",
       "    <tr style=\"text-align: right;\">\n",
       "      <th></th>\n",
       "      <th>cols</th>\n",
       "      <th>vif</th>\n",
       "    </tr>\n",
       "  </thead>\n",
       "  <tbody>\n",
       "    <tr>\n",
       "      <th>0</th>\n",
       "      <td>const</td>\n",
       "      <td>112.658247</td>\n",
       "    </tr>\n",
       "    <tr>\n",
       "      <th>1</th>\n",
       "      <td>mean radius</td>\n",
       "      <td>3930.892813</td>\n",
       "    </tr>\n",
       "    <tr>\n",
       "      <th>2</th>\n",
       "      <td>mean texture</td>\n",
       "      <td>12.371988</td>\n",
       "    </tr>\n",
       "    <tr>\n",
       "      <th>3</th>\n",
       "      <td>mean perimeter</td>\n",
       "      <td>3754.658901</td>\n",
       "    </tr>\n",
       "    <tr>\n",
       "      <th>4</th>\n",
       "      <td>mean area</td>\n",
       "      <td>437.152378</td>\n",
       "    </tr>\n",
       "    <tr>\n",
       "      <th>5</th>\n",
       "      <td>mean smoothness</td>\n",
       "      <td>8.720642</td>\n",
       "    </tr>\n",
       "    <tr>\n",
       "      <th>6</th>\n",
       "      <td>mean compactness</td>\n",
       "      <td>51.468043</td>\n",
       "    </tr>\n",
       "    <tr>\n",
       "      <th>7</th>\n",
       "      <td>mean concavity</td>\n",
       "      <td>77.437209</td>\n",
       "    </tr>\n",
       "    <tr>\n",
       "      <th>8</th>\n",
       "      <td>mean concave points</td>\n",
       "      <td>64.661983</td>\n",
       "    </tr>\n",
       "    <tr>\n",
       "      <th>9</th>\n",
       "      <td>mean symmetry</td>\n",
       "      <td>4.414541</td>\n",
       "    </tr>\n",
       "    <tr>\n",
       "      <th>10</th>\n",
       "      <td>mean fractal dimension</td>\n",
       "      <td>15.342852</td>\n",
       "    </tr>\n",
       "    <tr>\n",
       "      <th>11</th>\n",
       "      <td>radius error</td>\n",
       "      <td>81.720297</td>\n",
       "    </tr>\n",
       "    <tr>\n",
       "      <th>12</th>\n",
       "      <td>texture error</td>\n",
       "      <td>4.285146</td>\n",
       "    </tr>\n",
       "    <tr>\n",
       "      <th>13</th>\n",
       "      <td>perimeter error</td>\n",
       "      <td>70.467628</td>\n",
       "    </tr>\n",
       "    <tr>\n",
       "      <th>14</th>\n",
       "      <td>area error</td>\n",
       "      <td>45.368737</td>\n",
       "    </tr>\n",
       "    <tr>\n",
       "      <th>15</th>\n",
       "      <td>smoothness error</td>\n",
       "      <td>4.114974</td>\n",
       "    </tr>\n",
       "    <tr>\n",
       "      <th>16</th>\n",
       "      <td>compactness error</td>\n",
       "      <td>24.357161</td>\n",
       "    </tr>\n",
       "    <tr>\n",
       "      <th>17</th>\n",
       "      <td>concavity error</td>\n",
       "      <td>18.476068</td>\n",
       "    </tr>\n",
       "    <tr>\n",
       "      <th>18</th>\n",
       "      <td>concave points error</td>\n",
       "      <td>10.975047</td>\n",
       "    </tr>\n",
       "    <tr>\n",
       "      <th>19</th>\n",
       "      <td>symmetry error</td>\n",
       "      <td>5.937091</td>\n",
       "    </tr>\n",
       "    <tr>\n",
       "      <th>20</th>\n",
       "      <td>fractal dimension error</td>\n",
       "      <td>11.038749</td>\n",
       "    </tr>\n",
       "    <tr>\n",
       "      <th>21</th>\n",
       "      <td>worst radius</td>\n",
       "      <td>886.332674</td>\n",
       "    </tr>\n",
       "    <tr>\n",
       "      <th>22</th>\n",
       "      <td>worst texture</td>\n",
       "      <td>19.368875</td>\n",
       "    </tr>\n",
       "    <tr>\n",
       "      <th>23</th>\n",
       "      <td>worst perimeter</td>\n",
       "      <td>400.779791</td>\n",
       "    </tr>\n",
       "    <tr>\n",
       "      <th>24</th>\n",
       "      <td>worst area</td>\n",
       "      <td>429.425789</td>\n",
       "    </tr>\n",
       "    <tr>\n",
       "      <th>25</th>\n",
       "      <td>worst smoothness</td>\n",
       "      <td>11.605616</td>\n",
       "    </tr>\n",
       "    <tr>\n",
       "      <th>26</th>\n",
       "      <td>worst compactness</td>\n",
       "      <td>48.857847</td>\n",
       "    </tr>\n",
       "    <tr>\n",
       "      <th>27</th>\n",
       "      <td>worst concavity</td>\n",
       "      <td>40.123125</td>\n",
       "    </tr>\n",
       "    <tr>\n",
       "      <th>28</th>\n",
       "      <td>worst concave points</td>\n",
       "      <td>39.170378</td>\n",
       "    </tr>\n",
       "    <tr>\n",
       "      <th>29</th>\n",
       "      <td>worst symmetry</td>\n",
       "      <td>10.010215</td>\n",
       "    </tr>\n",
       "    <tr>\n",
       "      <th>30</th>\n",
       "      <td>worst fractal dimension</td>\n",
       "      <td>20.085029</td>\n",
       "    </tr>\n",
       "  </tbody>\n",
       "</table>\n",
       "</div>"
      ],
      "text/plain": [
       "                       cols          vif\n",
       "0                     const   112.658247\n",
       "1               mean radius  3930.892813\n",
       "2              mean texture    12.371988\n",
       "3            mean perimeter  3754.658901\n",
       "4                 mean area   437.152378\n",
       "5           mean smoothness     8.720642\n",
       "6          mean compactness    51.468043\n",
       "7            mean concavity    77.437209\n",
       "8       mean concave points    64.661983\n",
       "9             mean symmetry     4.414541\n",
       "10   mean fractal dimension    15.342852\n",
       "11             radius error    81.720297\n",
       "12            texture error     4.285146\n",
       "13          perimeter error    70.467628\n",
       "14               area error    45.368737\n",
       "15         smoothness error     4.114974\n",
       "16        compactness error    24.357161\n",
       "17          concavity error    18.476068\n",
       "18     concave points error    10.975047\n",
       "19           symmetry error     5.937091\n",
       "20  fractal dimension error    11.038749\n",
       "21             worst radius   886.332674\n",
       "22            worst texture    19.368875\n",
       "23          worst perimeter   400.779791\n",
       "24               worst area   429.425789\n",
       "25         worst smoothness    11.605616\n",
       "26        worst compactness    48.857847\n",
       "27          worst concavity    40.123125\n",
       "28     worst concave points    39.170378\n",
       "29           worst symmetry    10.010215\n",
       "30  worst fractal dimension    20.085029"
      ]
     },
     "execution_count": 12,
     "metadata": {},
     "output_type": "execute_result"
    }
   ],
   "source": [
    "vif = pd.DataFrame()\n",
    "vif[\"cols\"] = X_const.columns\n",
    "vif[\"vif\"] = [variance_inflation_factor(X_const, i) for i in range(X_const.shape[1])]\n",
    "vif"
   ]
  },
  {
   "cell_type": "code",
   "execution_count": 13,
   "id": "912c45fb-d22e-42b0-b6c1-a8ac6eb80b25",
   "metadata": {
    "tags": []
   },
   "outputs": [
    {
     "data": {
      "text/plain": [
       "(28, 2)"
      ]
     },
     "execution_count": 13,
     "metadata": {},
     "output_type": "execute_result"
    }
   ],
   "source": [
    "vif[vif['vif'] > 5].shape"
   ]
  },
  {
   "cell_type": "code",
   "execution_count": 14,
   "id": "2f32f2bb-1553-4c8e-aaf5-2841bd80b88b",
   "metadata": {
    "tags": []
   },
   "outputs": [
    {
     "data": {
      "text/html": [
       "<div>\n",
       "<style scoped>\n",
       "    .dataframe tbody tr th:only-of-type {\n",
       "        vertical-align: middle;\n",
       "    }\n",
       "\n",
       "    .dataframe tbody tr th {\n",
       "        vertical-align: top;\n",
       "    }\n",
       "\n",
       "    .dataframe thead th {\n",
       "        text-align: right;\n",
       "    }\n",
       "</style>\n",
       "<table border=\"1\" class=\"dataframe\">\n",
       "  <thead>\n",
       "    <tr style=\"text-align: right;\">\n",
       "      <th></th>\n",
       "      <th>cols</th>\n",
       "      <th>vif</th>\n",
       "    </tr>\n",
       "  </thead>\n",
       "  <tbody>\n",
       "    <tr>\n",
       "      <th>9</th>\n",
       "      <td>mean symmetry</td>\n",
       "      <td>4.414541</td>\n",
       "    </tr>\n",
       "    <tr>\n",
       "      <th>12</th>\n",
       "      <td>texture error</td>\n",
       "      <td>4.285146</td>\n",
       "    </tr>\n",
       "    <tr>\n",
       "      <th>15</th>\n",
       "      <td>smoothness error</td>\n",
       "      <td>4.114974</td>\n",
       "    </tr>\n",
       "  </tbody>\n",
       "</table>\n",
       "</div>"
      ],
      "text/plain": [
       "                cols       vif\n",
       "9      mean symmetry  4.414541\n",
       "12     texture error  4.285146\n",
       "15  smoothness error  4.114974"
      ]
     },
     "execution_count": 14,
     "metadata": {},
     "output_type": "execute_result"
    }
   ],
   "source": [
    "vif[vif['vif'] < 5]"
   ]
  },
  {
   "cell_type": "code",
   "execution_count": 15,
   "id": "8773c056-23ab-48ef-883e-3c1fa5e725b8",
   "metadata": {
    "tags": []
   },
   "outputs": [],
   "source": [
    "corr = X_train_standard.corr()\n",
    "# fig = plt.figure(figsize=(10, 10))\n",
    "# corr = corr.mask(np.where(np.abs(corr) > 0.75, True, False))\n",
    "# sns.heatmap(corr, annot=True)"
   ]
  },
  {
   "cell_type": "code",
   "execution_count": 16,
   "id": "20df4b3b-019e-4505-a82b-28d42d7cb252",
   "metadata": {
    "tags": []
   },
   "outputs": [
    {
     "data": {
      "text/plain": [
       "<Axes: >"
      ]
     },
     "execution_count": 16,
     "metadata": {},
     "output_type": "execute_result"
    },
    {
     "data": {
      "image/png": "[encoded data removed]",
      "text/plain": [
       "<Figure size 1000x1000 with 2 Axes>"
      ]
     },
     "metadata": {},
     "output_type": "display_data"
    }
   ],
   "source": [
    "corr = X_train_standard.corr()\n",
    "mask = np.triu(np.ones_like(corr, dtype=bool))\n",
    "mask_high_corr = np.abs(corr) < 0.75\n",
    "mask = mask | mask_high_corr\n",
    "fig = plt.figure(figsize=(10, 10))\n",
    "sns.heatmap(\n",
    "    corr,\n",
    "    mask=mask, \n",
    "    annot=True\n",
    ")"
   ]
  },
  {
   "cell_type": "code",
   "execution_count": 17,
   "id": "c669c8c6-59fa-4595-b2c8-e096f5271b86",
   "metadata": {
    "tags": []
   },
   "outputs": [
    {
     "name": "stderr",
     "output_type": "stream",
     "text": [
      "/opt/conda/lib/python3.10/site-packages/statsmodels/discrete/discrete_model.py:2385: RuntimeWarning: overflow encountered in exp\n",
      "  return 1/(1+np.exp(-X))\n",
      "/opt/conda/lib/python3.10/site-packages/statsmodels/discrete/discrete_model.py:2443: RuntimeWarning: divide by zero encountered in log\n",
      "  return np.sum(np.log(self.cdf(q * linpred)))\n"
     ]
    },
    {
     "name": "stdout",
     "output_type": "stream",
     "text": [
      "Warning: Maximum number of iterations has been exceeded.\n",
      "         Current function value: inf\n",
      "         Iterations: 35\n"
     ]
    },
    {
     "ename": "LinAlgError",
     "evalue": "Singular matrix",
     "output_type": "error",
     "traceback": [
      "\u001b[0;31m---------------------------------------------------------------------------\u001b[0m",
      "\u001b[0;31mLinAlgError\u001b[0m                               Traceback (most recent call last)",
      "Cell \u001b[0;32mIn[17], line 2\u001b[0m\n\u001b[1;32m      1\u001b[0m lr \u001b[38;5;241m=\u001b[39m sm\u001b[38;5;241m.\u001b[39mLogit(y_train, X_train_standard)\n\u001b[0;32m----> 2\u001b[0m model_lr \u001b[38;5;241m=\u001b[39m \u001b[43mlr\u001b[49m\u001b[38;5;241;43m.\u001b[39;49m\u001b[43mfit\u001b[49m\u001b[43m(\u001b[49m\u001b[43m)\u001b[49m\n",
      "File \u001b[0;32m/opt/conda/lib/python3.10/site-packages/statsmodels/discrete/discrete_model.py:2601\u001b[0m, in \u001b[0;36mLogit.fit\u001b[0;34m(self, start_params, method, maxiter, full_output, disp, callback, **kwargs)\u001b[0m\n\u001b[1;32m   2598\u001b[0m \u001b[38;5;129m@Appender\u001b[39m(DiscreteModel\u001b[38;5;241m.\u001b[39mfit\u001b[38;5;241m.\u001b[39m\u001b[38;5;18m__doc__\u001b[39m)\n\u001b[1;32m   2599\u001b[0m \u001b[38;5;28;01mdef\u001b[39;00m\u001b[38;5;250m \u001b[39m\u001b[38;5;21mfit\u001b[39m(\u001b[38;5;28mself\u001b[39m, start_params\u001b[38;5;241m=\u001b[39m\u001b[38;5;28;01mNone\u001b[39;00m, method\u001b[38;5;241m=\u001b[39m\u001b[38;5;124m'\u001b[39m\u001b[38;5;124mnewton\u001b[39m\u001b[38;5;124m'\u001b[39m, maxiter\u001b[38;5;241m=\u001b[39m\u001b[38;5;241m35\u001b[39m,\n\u001b[1;32m   2600\u001b[0m         full_output\u001b[38;5;241m=\u001b[39m\u001b[38;5;241m1\u001b[39m, disp\u001b[38;5;241m=\u001b[39m\u001b[38;5;241m1\u001b[39m, callback\u001b[38;5;241m=\u001b[39m\u001b[38;5;28;01mNone\u001b[39;00m, \u001b[38;5;241m*\u001b[39m\u001b[38;5;241m*\u001b[39mkwargs):\n\u001b[0;32m-> 2601\u001b[0m     bnryfit \u001b[38;5;241m=\u001b[39m \u001b[38;5;28;43msuper\u001b[39;49m\u001b[43m(\u001b[49m\u001b[43m)\u001b[49m\u001b[38;5;241;43m.\u001b[39;49m\u001b[43mfit\u001b[49m\u001b[43m(\u001b[49m\u001b[43mstart_params\u001b[49m\u001b[38;5;241;43m=\u001b[39;49m\u001b[43mstart_params\u001b[49m\u001b[43m,\u001b[49m\n\u001b[1;32m   2602\u001b[0m \u001b[43m                          \u001b[49m\u001b[43mmethod\u001b[49m\u001b[38;5;241;43m=\u001b[39;49m\u001b[43mmethod\u001b[49m\u001b[43m,\u001b[49m\n\u001b[1;32m   2603\u001b[0m \u001b[43m                          \u001b[49m\u001b[43mmaxiter\u001b[49m\u001b[38;5;241;43m=\u001b[39;49m\u001b[43mmaxiter\u001b[49m\u001b[43m,\u001b[49m\n\u001b[1;32m   2604\u001b[0m \u001b[43m                          \u001b[49m\u001b[43mfull_output\u001b[49m\u001b[38;5;241;43m=\u001b[39;49m\u001b[43mfull_output\u001b[49m\u001b[43m,\u001b[49m\n\u001b[1;32m   2605\u001b[0m \u001b[43m                          \u001b[49m\u001b[43mdisp\u001b[49m\u001b[38;5;241;43m=\u001b[39;49m\u001b[43mdisp\u001b[49m\u001b[43m,\u001b[49m\n\u001b[1;32m   2606\u001b[0m \u001b[43m                          \u001b[49m\u001b[43mcallback\u001b[49m\u001b[38;5;241;43m=\u001b[39;49m\u001b[43mcallback\u001b[49m\u001b[43m,\u001b[49m\n\u001b[1;32m   2607\u001b[0m \u001b[43m                          \u001b[49m\u001b[38;5;241;43m*\u001b[39;49m\u001b[38;5;241;43m*\u001b[39;49m\u001b[43mkwargs\u001b[49m\u001b[43m)\u001b[49m\n\u001b[1;32m   2609\u001b[0m     discretefit \u001b[38;5;241m=\u001b[39m LogitResults(\u001b[38;5;28mself\u001b[39m, bnryfit)\n\u001b[1;32m   2610\u001b[0m     \u001b[38;5;28;01mreturn\u001b[39;00m BinaryResultsWrapper(discretefit)\n",
      "File \u001b[0;32m/opt/conda/lib/python3.10/site-packages/statsmodels/discrete/discrete_model.py:243\u001b[0m, in \u001b[0;36mDiscreteModel.fit\u001b[0;34m(self, start_params, method, maxiter, full_output, disp, callback, **kwargs)\u001b[0m\n\u001b[1;32m    240\u001b[0m \u001b[38;5;28;01melse\u001b[39;00m:\n\u001b[1;32m    241\u001b[0m     \u001b[38;5;28;01mpass\u001b[39;00m  \u001b[38;5;66;03m# TODO: make a function factory to have multiple call-backs\u001b[39;00m\n\u001b[0;32m--> 243\u001b[0m mlefit \u001b[38;5;241m=\u001b[39m \u001b[38;5;28;43msuper\u001b[39;49m\u001b[43m(\u001b[49m\u001b[43m)\u001b[49m\u001b[38;5;241;43m.\u001b[39;49m\u001b[43mfit\u001b[49m\u001b[43m(\u001b[49m\u001b[43mstart_params\u001b[49m\u001b[38;5;241;43m=\u001b[39;49m\u001b[43mstart_params\u001b[49m\u001b[43m,\u001b[49m\n\u001b[1;32m    244\u001b[0m \u001b[43m                     \u001b[49m\u001b[43mmethod\u001b[49m\u001b[38;5;241;43m=\u001b[39;49m\u001b[43mmethod\u001b[49m\u001b[43m,\u001b[49m\n\u001b[1;32m    245\u001b[0m \u001b[43m                     \u001b[49m\u001b[43mmaxiter\u001b[49m\u001b[38;5;241;43m=\u001b[39;49m\u001b[43mmaxiter\u001b[49m\u001b[43m,\u001b[49m\n\u001b[1;32m    246\u001b[0m \u001b[43m                     \u001b[49m\u001b[43mfull_output\u001b[49m\u001b[38;5;241;43m=\u001b[39;49m\u001b[43mfull_output\u001b[49m\u001b[43m,\u001b[49m\n\u001b[1;32m    247\u001b[0m \u001b[43m                     \u001b[49m\u001b[43mdisp\u001b[49m\u001b[38;5;241;43m=\u001b[39;49m\u001b[43mdisp\u001b[49m\u001b[43m,\u001b[49m\n\u001b[1;32m    248\u001b[0m \u001b[43m                     \u001b[49m\u001b[43mcallback\u001b[49m\u001b[38;5;241;43m=\u001b[39;49m\u001b[43mcallback\u001b[49m\u001b[43m,\u001b[49m\n\u001b[1;32m    249\u001b[0m \u001b[43m                     \u001b[49m\u001b[38;5;241;43m*\u001b[39;49m\u001b[38;5;241;43m*\u001b[39;49m\u001b[43mkwargs\u001b[49m\u001b[43m)\u001b[49m\n\u001b[1;32m    251\u001b[0m \u001b[38;5;28;01mreturn\u001b[39;00m mlefit\n",
      "File \u001b[0;32m/opt/conda/lib/python3.10/site-packages/statsmodels/base/model.py:582\u001b[0m, in \u001b[0;36mLikelihoodModel.fit\u001b[0;34m(self, start_params, method, maxiter, full_output, disp, fargs, callback, retall, skip_hessian, **kwargs)\u001b[0m\n\u001b[1;32m    580\u001b[0m     Hinv \u001b[38;5;241m=\u001b[39m cov_params_func(\u001b[38;5;28mself\u001b[39m, xopt, retvals)\n\u001b[1;32m    581\u001b[0m \u001b[38;5;28;01melif\u001b[39;00m method \u001b[38;5;241m==\u001b[39m \u001b[38;5;124m'\u001b[39m\u001b[38;5;124mnewton\u001b[39m\u001b[38;5;124m'\u001b[39m \u001b[38;5;129;01mand\u001b[39;00m full_output:\n\u001b[0;32m--> 582\u001b[0m     Hinv \u001b[38;5;241m=\u001b[39m \u001b[43mnp\u001b[49m\u001b[38;5;241;43m.\u001b[39;49m\u001b[43mlinalg\u001b[49m\u001b[38;5;241;43m.\u001b[39;49m\u001b[43minv\u001b[49m\u001b[43m(\u001b[49m\u001b[38;5;241;43m-\u001b[39;49m\u001b[43mretvals\u001b[49m\u001b[43m[\u001b[49m\u001b[38;5;124;43m'\u001b[39;49m\u001b[38;5;124;43mHessian\u001b[39;49m\u001b[38;5;124;43m'\u001b[39;49m\u001b[43m]\u001b[49m\u001b[43m)\u001b[49m \u001b[38;5;241m/\u001b[39m nobs\n\u001b[1;32m    583\u001b[0m \u001b[38;5;28;01melif\u001b[39;00m \u001b[38;5;129;01mnot\u001b[39;00m skip_hessian:\n\u001b[1;32m    584\u001b[0m     H \u001b[38;5;241m=\u001b[39m \u001b[38;5;241m-\u001b[39m\u001b[38;5;241m1\u001b[39m \u001b[38;5;241m*\u001b[39m \u001b[38;5;28mself\u001b[39m\u001b[38;5;241m.\u001b[39mhessian(xopt)\n",
      "File \u001b[0;32m/opt/conda/lib/python3.10/site-packages/numpy/linalg/_linalg.py:615\u001b[0m, in \u001b[0;36minv\u001b[0;34m(a)\u001b[0m\n\u001b[1;32m    612\u001b[0m signature \u001b[38;5;241m=\u001b[39m \u001b[38;5;124m'\u001b[39m\u001b[38;5;124mD->D\u001b[39m\u001b[38;5;124m'\u001b[39m \u001b[38;5;28;01mif\u001b[39;00m isComplexType(t) \u001b[38;5;28;01melse\u001b[39;00m \u001b[38;5;124m'\u001b[39m\u001b[38;5;124md->d\u001b[39m\u001b[38;5;124m'\u001b[39m\n\u001b[1;32m    613\u001b[0m \u001b[38;5;28;01mwith\u001b[39;00m errstate(call\u001b[38;5;241m=\u001b[39m_raise_linalgerror_singular, invalid\u001b[38;5;241m=\u001b[39m\u001b[38;5;124m'\u001b[39m\u001b[38;5;124mcall\u001b[39m\u001b[38;5;124m'\u001b[39m,\n\u001b[1;32m    614\u001b[0m               over\u001b[38;5;241m=\u001b[39m\u001b[38;5;124m'\u001b[39m\u001b[38;5;124mignore\u001b[39m\u001b[38;5;124m'\u001b[39m, divide\u001b[38;5;241m=\u001b[39m\u001b[38;5;124m'\u001b[39m\u001b[38;5;124mignore\u001b[39m\u001b[38;5;124m'\u001b[39m, under\u001b[38;5;241m=\u001b[39m\u001b[38;5;124m'\u001b[39m\u001b[38;5;124mignore\u001b[39m\u001b[38;5;124m'\u001b[39m):\n\u001b[0;32m--> 615\u001b[0m     ainv \u001b[38;5;241m=\u001b[39m \u001b[43m_umath_linalg\u001b[49m\u001b[38;5;241;43m.\u001b[39;49m\u001b[43minv\u001b[49m\u001b[43m(\u001b[49m\u001b[43ma\u001b[49m\u001b[43m,\u001b[49m\u001b[43m \u001b[49m\u001b[43msignature\u001b[49m\u001b[38;5;241;43m=\u001b[39;49m\u001b[43msignature\u001b[49m\u001b[43m)\u001b[49m\n\u001b[1;32m    616\u001b[0m \u001b[38;5;28;01mreturn\u001b[39;00m wrap(ainv\u001b[38;5;241m.\u001b[39mastype(result_t, copy\u001b[38;5;241m=\u001b[39m\u001b[38;5;28;01mFalse\u001b[39;00m))\n",
      "File \u001b[0;32m/opt/conda/lib/python3.10/site-packages/numpy/linalg/_linalg.py:104\u001b[0m, in \u001b[0;36m_raise_linalgerror_singular\u001b[0;34m(err, flag)\u001b[0m\n\u001b[1;32m    103\u001b[0m \u001b[38;5;28;01mdef\u001b[39;00m\u001b[38;5;250m \u001b[39m\u001b[38;5;21m_raise_linalgerror_singular\u001b[39m(err, flag):\n\u001b[0;32m--> 104\u001b[0m     \u001b[38;5;28;01mraise\u001b[39;00m LinAlgError(\u001b[38;5;124m\"\u001b[39m\u001b[38;5;124mSingular matrix\u001b[39m\u001b[38;5;124m\"\u001b[39m)\n",
      "\u001b[0;31mLinAlgError\u001b[0m: Singular matrix"
     ]
    }
   ],
   "source": [
    "lr = sm.Logit(y_train, X_train_standard)\n",
    "model_lr = lr.fit()"
   ]
  },
  {
   "cell_type": "code",
   "execution_count": null,
   "id": "a17d8806-64fd-4dc7-9718-67d465b97874",
   "metadata": {
    "tags": []
   },
   "outputs": [],
   "source": [
    "model_lr.summary()"
   ]
  },
  {
   "cell_type": "code",
   "execution_count": 18,
   "id": "52ed2843-1a69-40b5-bedd-90d2612614b5",
   "metadata": {
    "tags": []
   },
   "outputs": [],
   "source": [
    "X_train_red = X_train_standard[['mean radius',\n",
    " 'mean area',\n",
    " 'mean concave points',\n",
    " 'mean fractal dimension',\n",
    " 'concavity error',\n",
    " 'concave points error',\n",
    " 'worst radius',\n",
    " 'worst area']]"
   ]
  },
  {
   "cell_type": "code",
   "execution_count": 19,
   "id": "dbb090aa-38ef-4e2b-b459-42a3dd39f8fc",
   "metadata": {
    "tags": []
   },
   "outputs": [
    {
     "name": "stdout",
     "output_type": "stream",
     "text": [
      "Optimization terminated successfully.\n",
      "         Current function value: 0.077706\n",
      "         Iterations 12\n"
     ]
    },
    {
     "data": {
      "text/html": [
       "<table class=\"simpletable\">\n",
       "<caption>Logit Regression Results</caption>\n",
       "<tr>\n",
       "  <th>Dep. Variable:</th>        <td>target</td>      <th>  No. Observations:  </th>   <td>   455</td>  \n",
       "</tr>\n",
       "<tr>\n",
       "  <th>Model:</th>                 <td>Logit</td>      <th>  Df Residuals:      </th>   <td>   447</td>  \n",
       "</tr>\n",
       "<tr>\n",
       "  <th>Method:</th>                 <td>MLE</td>       <th>  Df Model:          </th>   <td>     7</td>  \n",
       "</tr>\n",
       "<tr>\n",
       "  <th>Date:</th>            <td>Wed, 11 Jun 2025</td> <th>  Pseudo R-squ.:     </th>   <td>0.8818</td>  \n",
       "</tr>\n",
       "<tr>\n",
       "  <th>Time:</th>                <td>05:12:46</td>     <th>  Log-Likelihood:    </th>  <td> -35.356</td> \n",
       "</tr>\n",
       "<tr>\n",
       "  <th>converged:</th>             <td>True</td>       <th>  LL-Null:           </th>  <td> -299.10</td> \n",
       "</tr>\n",
       "<tr>\n",
       "  <th>Covariance Type:</th>     <td>nonrobust</td>    <th>  LLR p-value:       </th> <td>9.864e-110</td>\n",
       "</tr>\n",
       "</table>\n",
       "<table class=\"simpletable\">\n",
       "<tr>\n",
       "             <td></td>               <th>coef</th>     <th>std err</th>      <th>z</th>      <th>P>|z|</th>  <th>[0.025</th>    <th>0.975]</th>  \n",
       "</tr>\n",
       "<tr>\n",
       "  <th>mean radius</th>            <td>  126.8438</td> <td>   48.872</td> <td>    2.595</td> <td> 0.009</td> <td>   31.057</td> <td>  222.631</td>\n",
       "</tr>\n",
       "<tr>\n",
       "  <th>mean area</th>              <td>  -68.3543</td> <td>   65.731</td> <td>   -1.040</td> <td> 0.298</td> <td> -197.184</td> <td>   60.476</td>\n",
       "</tr>\n",
       "<tr>\n",
       "  <th>mean concave points</th>    <td>  -37.4848</td> <td>    7.107</td> <td>   -5.274</td> <td> 0.000</td> <td>  -51.414</td> <td>  -23.555</td>\n",
       "</tr>\n",
       "<tr>\n",
       "  <th>mean fractal dimension</th> <td>    5.7386</td> <td>    2.826</td> <td>    2.031</td> <td> 0.042</td> <td>    0.200</td> <td>   11.277</td>\n",
       "</tr>\n",
       "<tr>\n",
       "  <th>concavity error</th>        <td>   -2.5444</td> <td>    4.043</td> <td>   -0.629</td> <td> 0.529</td> <td>  -10.468</td> <td>    5.379</td>\n",
       "</tr>\n",
       "<tr>\n",
       "  <th>concave points error</th>   <td>    3.9421</td> <td>    4.111</td> <td>    0.959</td> <td> 0.338</td> <td>   -4.115</td> <td>   11.999</td>\n",
       "</tr>\n",
       "<tr>\n",
       "  <th>worst radius</th>           <td>   33.5202</td> <td>   54.210</td> <td>    0.618</td> <td> 0.536</td> <td>  -72.729</td> <td>  139.769</td>\n",
       "</tr>\n",
       "<tr>\n",
       "  <th>worst area</th>             <td> -215.7259</td> <td>   94.924</td> <td>   -2.273</td> <td> 0.023</td> <td> -401.774</td> <td>  -29.678</td>\n",
       "</tr>\n",
       "</table><br/><br/>Possibly complete quasi-separation: A fraction 0.33 of observations can be<br/>perfectly predicted. This might indicate that there is complete<br/>quasi-separation. In this case some parameters will not be identified."
      ],
      "text/latex": [
       "\\begin{center}\n",
       "\\begin{tabular}{lclc}\n",
       "\\toprule\n",
       "\\textbf{Dep. Variable:}         &      target      & \\textbf{  No. Observations:  } &      455    \\\\\n",
       "\\textbf{Model:}                 &      Logit       & \\textbf{  Df Residuals:      } &      447    \\\\\n",
       "\\textbf{Method:}                &       MLE        & \\textbf{  Df Model:          } &        7    \\\\\n",
       "\\textbf{Date:}                  & Wed, 11 Jun 2025 & \\textbf{  Pseudo R-squ.:     } &   0.8818    \\\\\n",
       "\\textbf{Time:}                  &     05:12:46     & \\textbf{  Log-Likelihood:    } &   -35.356   \\\\\n",
       "\\textbf{converged:}             &       True       & \\textbf{  LL-Null:           } &   -299.10   \\\\\n",
       "\\textbf{Covariance Type:}       &    nonrobust     & \\textbf{  LLR p-value:       } & 9.864e-110  \\\\\n",
       "\\bottomrule\n",
       "\\end{tabular}\n",
       "\\begin{tabular}{lcccccc}\n",
       "                                & \\textbf{coef} & \\textbf{std err} & \\textbf{z} & \\textbf{P$> |$z$|$} & \\textbf{[0.025} & \\textbf{0.975]}  \\\\\n",
       "\\midrule\n",
       "\\textbf{mean radius}            &     126.8438  &       48.872     &     2.595  &         0.009        &       31.057    &      222.631     \\\\\n",
       "\\textbf{mean area}              &     -68.3543  &       65.731     &    -1.040  &         0.298        &     -197.184    &       60.476     \\\\\n",
       "\\textbf{mean concave points}    &     -37.4848  &        7.107     &    -5.274  &         0.000        &      -51.414    &      -23.555     \\\\\n",
       "\\textbf{mean fractal dimension} &       5.7386  &        2.826     &     2.031  &         0.042        &        0.200    &       11.277     \\\\\n",
       "\\textbf{concavity error}        &      -2.5444  &        4.043     &    -0.629  &         0.529        &      -10.468    &        5.379     \\\\\n",
       "\\textbf{concave points error}   &       3.9421  &        4.111     &     0.959  &         0.338        &       -4.115    &       11.999     \\\\\n",
       "\\textbf{worst radius}           &      33.5202  &       54.210     &     0.618  &         0.536        &      -72.729    &      139.769     \\\\\n",
       "\\textbf{worst area}             &    -215.7259  &       94.924     &    -2.273  &         0.023        &     -401.774    &      -29.678     \\\\\n",
       "\\bottomrule\n",
       "\\end{tabular}\n",
       "%\\caption{Logit Regression Results}\n",
       "\\end{center}\n",
       "\n",
       "Possibly complete quasi-separation: A fraction 0.33 of observations can be \\newline\n",
       " perfectly predicted. This might indicate that there is complete \\newline\n",
       " quasi-separation. In this case some parameters will not be identified."
      ],
      "text/plain": [
       "<class 'statsmodels.iolib.summary.Summary'>\n",
       "\"\"\"\n",
       "                           Logit Regression Results                           \n",
       "==============================================================================\n",
       "Dep. Variable:                 target   No. Observations:                  455\n",
       "Model:                          Logit   Df Residuals:                      447\n",
       "Method:                           MLE   Df Model:                            7\n",
       "Date:                Wed, 11 Jun 2025   Pseudo R-squ.:                  0.8818\n",
       "Time:                        05:12:46   Log-Likelihood:                -35.356\n",
       "converged:                       True   LL-Null:                       -299.10\n",
       "Covariance Type:            nonrobust   LLR p-value:                9.864e-110\n",
       "==========================================================================================\n",
       "                             coef    std err          z      P>|z|      [0.025      0.975]\n",
       "------------------------------------------------------------------------------------------\n",
       "mean radius              126.8438     48.872      2.595      0.009      31.057     222.631\n",
       "mean area                -68.3543     65.731     -1.040      0.298    -197.184      60.476\n",
       "mean concave points      -37.4848      7.107     -5.274      0.000     -51.414     -23.555\n",
       "mean fractal dimension     5.7386      2.826      2.031      0.042       0.200      11.277\n",
       "concavity error           -2.5444      4.043     -0.629      0.529     -10.468       5.379\n",
       "concave points error       3.9421      4.111      0.959      0.338      -4.115      11.999\n",
       "worst radius              33.5202     54.210      0.618      0.536     -72.729     139.769\n",
       "worst area              -215.7259     94.924     -2.273      0.023    -401.774     -29.678\n",
       "==========================================================================================\n",
       "\n",
       "Possibly complete quasi-separation: A fraction 0.33 of observations can be\n",
       "perfectly predicted. This might indicate that there is complete\n",
       "quasi-separation. In this case some parameters will not be identified.\n",
       "\"\"\""
      ]
     },
     "execution_count": 19,
     "metadata": {},
     "output_type": "execute_result"
    }
   ],
   "source": [
    "lr = sm.Logit(y_train, X_train_red)\n",
    "model_lr = lr.fit()\n",
    "model_lr.summary()"
   ]
  },
  {
   "cell_type": "raw",
   "id": "c6ffc740-e4b4-49b9-be8a-11195c15768b",
   "metadata": {
    "tags": []
   },
   "source": [
    "pca = PCA(n_components=2)"
   ]
  },
  {
   "cell_type": "raw",
   "id": "297b73c9-c192-408e-9335-8b32ad77e0a1",
   "metadata": {
    "tags": []
   },
   "source": [
    "X_train_pca = pd.DataFrame(pca.fit_transform(X_train_standard), index=X_train_standard.index)"
   ]
  },
  {
   "cell_type": "raw",
   "id": "3a1141b5-b955-4895-9b7d-43ef5a41efeb",
   "metadata": {
    "tags": []
   },
   "source": [
    "lr = sm.Logit(y_train, X_train_pca)\n",
    "model_lr = lr.fit()\n",
    "model_lr.summary()"
   ]
  },
  {
   "cell_type": "code",
   "execution_count": 20,
   "id": "7688eb89-88ab-4b9c-8e35-d59c1889a6ae",
   "metadata": {
    "tags": []
   },
   "outputs": [],
   "source": [
    "X_test_scaled = pd.DataFrame(scalar.transform(X_test), columns=X_test.columns, index=X_test.index)\n",
    "X_test_red = X_test_scaled[['mean radius',\n",
    " 'mean area',\n",
    " 'mean concave points',\n",
    " 'mean fractal dimension',\n",
    " 'concavity error',\n",
    " 'concave points error',\n",
    " 'worst radius',\n",
    " 'worst area']]\n"
   ]
  },
  {
   "cell_type": "code",
   "execution_count": 21,
   "id": "80255a48-9e43-4e36-a87f-3daa67eca9b5",
   "metadata": {
    "tags": []
   },
   "outputs": [
    {
     "name": "stdout",
     "output_type": "stream",
     "text": [
      "0.07294685990338165\n"
     ]
    },
    {
     "data": {
      "image/png": "[encoded data removed]",
      "text/plain": [
       "<Figure size 640x480 with 1 Axes>"
      ]
     },
     "metadata": {},
     "output_type": "display_data"
    },
    {
     "data": {
      "image/png": "[encoded data removed]",
      "text/plain": [
       "<Figure size 640x480 with 2 Axes>"
      ]
     },
     "metadata": {},
     "output_type": "display_data"
    },
    {
     "name": "stdout",
     "output_type": "stream",
     "text": [
      "Precision: 0.96875\n",
      "Recall: 0.8985507246376812\n",
      "F1 Score: 0.9323308270676691\n"
     ]
    }
   ],
   "source": [
    "get_model_metrics(model_lr, X_test_red, y_test)"
   ]
  },
  {
   "cell_type": "code",
   "execution_count": 22,
   "id": "60fe0657-c8fb-4e7a-b67f-af136d27fe4c",
   "metadata": {
    "tags": []
   },
   "outputs": [],
   "source": [
    "import pickle"
   ]
  },
  {
   "cell_type": "code",
   "execution_count": 24,
   "id": "240a6166-13ff-435c-80af-5114bead12ac",
   "metadata": {
    "tags": []
   },
   "outputs": [],
   "source": [
    "pickle.dump(model_lr, open('model.pkl', 'wb'))\n",
    "\n"
   ]
  },
  {
   "cell_type": "code",
   "execution_count": 26,
   "id": "36189feb-b969-4a84-bdcd-94486214a080",
   "metadata": {
    "tags": []
   },
   "outputs": [],
   "source": [
    "from google.cloud import storage"
   ]
  },
  {
   "cell_type": "code",
   "execution_count": 27,
   "id": "efc2122b-81ae-43e2-a4c8-244bd3347d67",
   "metadata": {
    "tags": []
   },
   "outputs": [],
   "source": [
    "client = storage.Client()"
   ]
  },
  {
   "cell_type": "code",
   "execution_count": 28,
   "id": "b3f73c9a-a54f-43fc-a5a0-53d03c7653ae",
   "metadata": {},
   "outputs": [],
   "source": [
    "bucket = client.bucket('trained-models-1234')\n",
    "blob = bucket.blob('breast-cancer-model/model.pkl')\n",
    "blob.upload_from_filename('model.pkl')"
   ]
  },
  {
   "cell_type": "code",
   "execution_count": 29,
   "id": "73721ea9-da19-4e15-8b03-3122ef757f53",
   "metadata": {
    "tags": []
   },
   "outputs": [],
   "source": [
    "import sklearn as sk"
   ]
  },
  {
   "cell_type": "code",
   "execution_count": 32,
   "id": "f5e64194-d422-45d2-8411-4a81193e491a",
   "metadata": {
    "tags": []
   },
   "outputs": [
    {
     "data": {
      "text/plain": [
       "'1.6.1'"
      ]
     },
     "execution_count": 32,
     "metadata": {},
     "output_type": "execute_result"
    }
   ],
   "source": [
    "sk.__version__"
   ]
  },
  {
   "cell_type": "code",
   "execution_count": 2,
   "id": "f9c0a66e-af75-4ef6-bed6-f86b94a3d14b",
   "metadata": {
    "tags": []
   },
   "outputs": [
    {
     "data": {
      "text/plain": [
       "'2.1.3'"
      ]
     },
     "execution_count": 2,
     "metadata": {},
     "output_type": "execute_result"
    }
   ],
   "source": [
    "import numpy as np\n",
    "np.__version__"
   ]
  },
  {
   "cell_type": "code",
   "execution_count": 3,
   "id": "bdc99b08-f185-49b0-81d2-95ea18909f9e",
   "metadata": {
    "tags": []
   },
   "outputs": [
    {
     "data": {
      "text/plain": [
       "'2.2.3'"
      ]
     },
     "execution_count": 3,
     "metadata": {},
     "output_type": "execute_result"
    }
   ],
   "source": [
    "import pandas as pd\n",
    "pd.__version__"
   ]
  },
  {
   "cell_type": "code",
   "execution_count": 35,
   "id": "c7f31352-bcbe-466f-bcbf-a03c1fc34bfa",
   "metadata": {
    "tags": []
   },
   "outputs": [
    {
     "data": {
      "text/plain": [
       "array([[1.394e+01, 5.942e+02, 6.615e-02, 6.457e-02, 4.763e-02, 2.853e-02,\n",
       "        1.462e+01, 6.533e+02],\n",
       "       [1.496e+01, 6.873e+02, 4.819e-02, 5.852e-02, 1.536e-02, 1.187e-02,\n",
       "        1.625e+01, 8.098e+02],\n",
       "       [9.668e+00, 2.863e+02, 5.769e-03, 6.412e-02, 1.031e-02, 3.934e-03,\n",
       "        1.115e+01, 3.802e+02],\n",
       "       [2.227e+01, 1.509e+03, 1.823e-01, 7.039e-02, 1.040e-01, 2.480e-02,\n",
       "        2.840e+01, 2.360e+03],\n",
       "       [1.442e+01, 6.412e+02, 4.223e-02, 6.412e-02, 3.840e-02, 1.243e-02,\n",
       "        1.667e+01, 8.621e+02],\n",
       "       [1.955e+01, 1.207e+03, 1.144e-01, 6.232e-02, 3.863e-02, 1.519e-02,\n",
       "        2.505e+01, 1.926e+03],\n",
       "       [1.175e+01, 4.198e+02, 3.738e-02, 6.453e-02, 4.167e-02, 1.152e-02,\n",
       "        1.332e+01, 5.439e+02],\n",
       "       [1.320e+01, 5.373e+02, 3.261e-03, 5.894e-02, 1.128e-03, 2.386e-03,\n",
       "        1.441e+01, 6.369e+02],\n",
       "       [1.225e+01, 4.603e+02, 2.331e-02, 6.228e-02, 1.994e-02, 7.924e-03,\n",
       "        1.359e+01, 5.642e+02],\n",
       "       [1.481e+01, 6.807e+02, 2.541e-02, 5.348e-02, 1.482e-02, 1.056e-02,\n",
       "        1.561e+01, 7.602e+02],\n",
       "       [1.343e+01, 5.654e+02, 3.438e-02, 5.671e-02, 2.151e-02, 9.443e-03,\n",
       "        1.798e+01, 9.936e+02],\n",
       "       [1.134e+01, 3.965e+02, 1.899e-02, 6.529e-02, 2.443e-02, 6.435e-03,\n",
       "        1.301e+01, 5.181e+02],\n",
       "       [1.189e+01, 4.356e+02, 7.404e-02, 5.875e-02, 1.267e-02, 1.910e-02,\n",
       "        1.240e+01, 4.724e+02],\n",
       "       [1.223e+01, 4.610e+02, 4.107e-02, 6.013e-02, 1.401e-02, 1.140e-02,\n",
       "        1.444e+01, 6.384e+02],\n",
       "       [1.152e+01, 4.090e+02, 2.278e-02, 5.907e-02, 1.349e-02, 8.670e-03,\n",
       "        1.284e+01, 5.062e+02],\n",
       "       [1.919e+01, 1.157e+03, 9.667e-02, 5.176e-02, 4.344e-02, 2.794e-02,\n",
       "        2.203e+01, 1.495e+03],\n",
       "       [1.131e+01, 3.941e+02, 2.230e-02, 5.667e-02, 2.063e-02, 8.965e-03,\n",
       "        1.233e+01, 4.667e+02],\n",
       "       [1.154e+01, 4.029e+02, 2.594e-02, 6.782e-02, 5.553e-02, 1.494e-02,\n",
       "        1.226e+01, 4.578e+02],\n",
       "       [1.174e+01, 4.273e+02, 2.763e-02, 6.113e-02, 1.514e-02, 1.846e-02,\n",
       "        1.331e+01, 5.337e+02],\n",
       "       [1.720e+01, 9.294e+02, 7.944e-02, 6.487e-02, 4.252e-02, 1.127e-02,\n",
       "        2.332e+01, 1.681e+03],\n",
       "       [9.731e+00, 3.002e+02, 7.857e-02, 9.296e-02, 3.960e-01, 5.279e-02,\n",
       "        1.102e+01, 3.805e+02],\n",
       "       [1.146e+01, 4.031e+02, 1.502e-02, 6.243e-02, 2.221e-02, 7.807e-03,\n",
       "        1.268e+01, 4.898e+02],\n",
       "       [1.320e+01, 5.416e+02, 1.105e-02, 5.635e-02, 3.079e-02, 5.383e-03,\n",
       "        1.394e+01, 6.020e+02],\n",
       "       [1.272e+01, 4.921e+02, 1.924e-02, 6.100e-02, 6.564e-03, 7.978e-03,\n",
       "        1.350e+01, 5.537e+02],\n",
       "       [1.453e+01, 6.442e+02, 6.495e-02, 6.121e-02, 1.615e-02, 1.136e-02,\n",
       "        1.580e+01, 7.499e+02],\n",
       "       [1.989e+01, 1.214e+03, 9.431e-02, 6.188e-02, 3.052e-02, 1.178e-02,\n",
       "        2.373e+01, 1.646e+03],\n",
       "       [1.387e+01, 5.848e+02, 2.369e-02, 6.688e-02, 2.615e-02, 9.061e-03,\n",
       "        1.505e+01, 6.886e+02],\n",
       "       [1.504e+01, 6.894e+02, 6.142e-02, 6.869e-02, 1.996e-02, 1.004e-02,\n",
       "        1.676e+01, 8.569e+02],\n",
       "       [2.057e+01, 1.326e+03, 7.017e-02, 5.667e-02, 1.860e-02, 1.340e-02,\n",
       "        2.499e+01, 1.956e+03],\n",
       "       [2.044e+01, 1.293e+03, 7.785e-02, 5.557e-02, 2.375e-02, 1.461e-02,\n",
       "        2.431e+01, 1.780e+03],\n",
       "       [1.527e+01, 7.255e+02, 3.157e-02, 5.526e-02, 1.841e-02, 7.373e-03,\n",
       "        1.738e+01, 9.327e+02],\n",
       "       [1.200e+01, 4.433e+02, 1.863e-02, 5.968e-02, 2.007e-02, 7.027e-03,\n",
       "        1.367e+01, 5.679e+02],\n",
       "       [1.276e+01, 5.041e+02, 2.548e-02, 6.140e-02, 3.137e-02, 1.069e-02,\n",
       "        1.419e+01, 6.188e+02],\n",
       "       [2.073e+01, 1.419e+03, 8.646e-02, 5.674e-02, 2.143e-02, 9.280e-03,\n",
       "        3.249e+01, 3.432e+03],\n",
       "       [1.979e+01, 1.192e+03, 1.149e-01, 6.113e-02, 4.755e-02, 1.043e-02,\n",
       "        2.263e+01, 1.589e+03],\n",
       "       [1.256e+01, 4.858e+02, 4.391e-02, 6.184e-02, 6.271e-02, 1.966e-02,\n",
       "        1.337e+01, 5.474e+02],\n",
       "       [1.301e+01, 5.264e+02, 1.852e-03, 5.234e-02, 1.595e-03, 1.852e-03,\n",
       "        1.400e+01, 6.088e+02],\n",
       "       [1.344e+01, 5.630e+02, 2.031e-02, 5.587e-02, 1.390e-02, 6.881e-03,\n",
       "        1.593e+01, 7.879e+02],\n",
       "       [1.049e+01, 3.343e+02, 1.780e-02, 6.600e-02, 1.808e-02, 9.199e-03,\n",
       "        1.106e+01, 3.754e+02],\n",
       "       [9.876e+00, 2.983e+02, 3.029e-02, 6.322e-02, 3.029e-02, 1.112e-02,\n",
       "        1.076e+01, 3.612e+02],\n",
       "       [2.060e+01, 1.265e+03, 1.520e-01, 7.016e-02, 7.117e-02, 1.664e-02,\n",
       "        2.574e+01, 1.821e+03],\n",
       "       [1.611e+01, 8.130e+02, 5.943e-02, 6.248e-02, 3.067e-02, 1.167e-02,\n",
       "        1.992e+01, 1.233e+03],\n",
       "       [1.120e+01, 3.860e+02, 0.000e+00, 5.502e-02, 0.000e+00, 0.000e+00,\n",
       "        1.192e+01, 4.396e+02],\n",
       "       [1.025e+01, 3.242e+02, 3.965e-02, 7.279e-02, 4.004e-02, 1.544e-02,\n",
       "        1.128e+01, 3.904e+02],\n",
       "       [1.340e+01, 5.567e+02, 8.172e-02, 7.325e-02, 3.452e-02, 1.334e-02,\n",
       "        1.641e+01, 8.444e+02],\n",
       "       [1.160e+01, 4.127e+02, 1.777e-02, 5.859e-02, 2.080e-02, 7.497e-03,\n",
       "        1.277e+01, 4.951e+02],\n",
       "       [8.571e+00, 2.213e+02, 1.510e-02, 7.126e-02, 1.801e-02, 7.320e-03,\n",
       "        9.473e+00, 2.756e+02],\n",
       "       [1.122e+01, 3.873e+02, 7.583e-03, 6.028e-02, 3.297e-03, 4.967e-03,\n",
       "        1.198e+01, 4.361e+02],\n",
       "       [2.171e+01, 1.546e+03, 8.465e-02, 5.054e-02, 2.096e-02, 1.197e-02,\n",
       "        3.075e+01, 3.143e+03],\n",
       "       [1.831e+01, 1.052e+03, 9.451e-02, 5.941e-02, 2.913e-02, 1.046e-02,\n",
       "        2.186e+01, 1.493e+03],\n",
       "       [1.519e+01, 7.118e+02, 2.657e-02, 5.544e-02, 1.551e-02, 9.155e-03,\n",
       "        1.620e+01, 8.191e+02],\n",
       "       [1.803e+01, 9.900e+02, 6.254e-02, 5.780e-02, 2.975e-02, 9.753e-03,\n",
       "        2.038e+01, 1.292e+03],\n",
       "       [1.650e+01, 8.381e+02, 4.835e-02, 5.593e-02, 1.832e-02, 1.033e-02,\n",
       "        1.813e+01, 1.009e+03],\n",
       "       [1.150e+01, 4.074e+02, 2.069e-02, 5.934e-02, 1.245e-02, 9.175e-03,\n",
       "        1.297e+01, 5.089e+02],\n",
       "       [1.018e+01, 3.131e+02, 1.915e-02, 6.908e-02, 8.534e-03, 7.624e-03,\n",
       "        1.117e+01, 3.756e+02],\n",
       "       [1.512e+01, 7.166e+02, 4.079e-02, 5.986e-02, 2.039e-02, 8.260e-03,\n",
       "        1.777e+01, 9.895e+02],\n",
       "       [1.171e+01, 4.236e+02, 2.600e-02, 5.945e-02, 2.662e-02, 1.307e-02,\n",
       "        1.333e+01, 5.467e+02],\n",
       "       [1.017e+01, 3.119e+02, 1.290e-02, 6.960e-02, 7.665e-03, 8.193e-03,\n",
       "        1.102e+01, 3.686e+02],\n",
       "       [1.142e+01, 3.861e+02, 1.052e-01, 9.744e-02, 5.661e-02, 1.867e-02,\n",
       "        1.491e+01, 5.677e+02],\n",
       "       [1.048e+01, 3.336e+02, 2.218e-02, 6.915e-02, 5.263e-02, 1.264e-02,\n",
       "        1.213e+01, 4.404e+02],\n",
       "       [1.247e+01, 4.819e+02, 3.821e-02, 6.373e-02, 2.701e-02, 1.037e-02,\n",
       "        1.497e+01, 6.779e+02],\n",
       "       [1.490e+01, 6.850e+02, 9.711e-02, 6.898e-02, 7.926e-02, 2.234e-02,\n",
       "        1.635e+01, 8.327e+02],\n",
       "       [1.143e+01, 3.998e+02, 2.875e-02, 5.865e-02, 1.434e-02, 8.602e-03,\n",
       "        1.232e+01, 4.620e+02],\n",
       "       [1.702e+01, 8.993e+02, 1.203e-01, 6.382e-02, 5.042e-02, 1.112e-02,\n",
       "        2.088e+01, 1.344e+03],\n",
       "       [2.016e+01, 1.274e+03, 7.726e-02, 5.096e-02, 2.645e-02, 1.247e-02,\n",
       "        2.306e+01, 1.657e+03],\n",
       "       [1.426e+01, 6.299e+02, 7.798e-02, 7.769e-02, 1.435e-01, 2.292e-02,\n",
       "        1.530e+01, 7.090e+02],\n",
       "       [1.981e+01, 1.260e+03, 9.498e-02, 5.395e-02, 3.391e-02, 1.521e-02,\n",
       "        2.732e+01, 2.398e+03],\n",
       "       [1.822e+01, 1.033e+03, 1.060e-01, 6.310e-02, 2.817e-02, 9.222e-03,\n",
       "        2.060e+01, 1.321e+03],\n",
       "       [1.785e+01, 9.921e+02, 4.178e-02, 5.243e-02, 1.153e-02, 7.437e-03,\n",
       "        1.982e+01, 1.210e+03],\n",
       "       [1.180e+01, 4.320e+02, 7.415e-02, 7.371e-02, 4.649e-02, 1.843e-02,\n",
       "        1.374e+01, 5.917e+02],\n",
       "       [1.625e+01, 8.158e+02, 9.194e-02, 6.578e-02, 8.079e-02, 2.215e-02,\n",
       "        1.739e+01, 9.397e+02],\n",
       "       [1.805e+01, 1.006e+03, 1.080e-01, 6.673e-02, 4.658e-02, 2.070e-02,\n",
       "        2.239e+01, 1.610e+03],\n",
       "       [1.287e+01, 5.122e+02, 1.615e-02, 5.769e-02, 2.589e-02, 6.330e-03,\n",
       "        1.390e+01, 5.975e+02],\n",
       "       [1.546e+01, 7.489e+02, 8.087e-02, 5.796e-02, 2.813e-02, 1.093e-02,\n",
       "        1.926e+01, 1.156e+03],\n",
       "       [1.044e+01, 3.296e+02, 1.216e-02, 6.450e-02, 2.817e-03, 4.972e-03,\n",
       "        1.152e+01, 3.954e+02],\n",
       "       [1.478e+01, 6.683e+02, 9.029e-02, 6.654e-02, 2.315e-02, 1.184e-02,\n",
       "        1.731e+01, 9.251e+02],\n",
       "       [9.465e+00, 2.694e+02, 1.504e-02, 6.899e-02, 1.714e-02, 9.333e-03,\n",
       "        1.041e+01, 3.307e+02],\n",
       "       [1.141e+01, 4.033e+02, 2.623e-02, 6.113e-02, 1.514e-02, 6.460e-03,\n",
       "        1.282e+01, 5.105e+02],\n",
       "       [1.434e+01, 6.412e+02, 4.603e-02, 5.448e-02, 2.360e-02, 1.286e-02,\n",
       "        1.677e+01, 8.732e+02],\n",
       "       [1.398e+01, 5.995e+02, 6.463e-02, 6.544e-02, 2.185e-02, 9.567e-03,\n",
       "        1.704e+01, 8.693e+02],\n",
       "       [2.018e+01, 1.250e+03, 1.259e-01, 6.053e-02, 5.546e-02, 1.910e-02,\n",
       "        2.203e+01, 1.479e+03],\n",
       "       [1.508e+01, 7.166e+02, 6.553e-02, 6.464e-02, 4.912e-02, 1.746e-02,\n",
       "        1.851e+01, 1.050e+03],\n",
       "       [1.530e+01, 7.324e+02, 8.751e-02, 6.540e-02, 3.576e-02, 1.083e-02,\n",
       "        2.027e+01, 1.269e+03],\n",
       "       [1.189e+01, 4.322e+02, 3.142e-02, 6.314e-02, 5.946e-02, 1.785e-02,\n",
       "        1.325e+01, 5.312e+02],\n",
       "       [1.189e+01, 4.338e+02, 2.179e-02, 6.290e-02, 1.630e-02, 9.276e-03,\n",
       "        1.305e+01, 5.229e+02],\n",
       "       [1.684e+01, 8.802e+02, 2.771e-02, 5.268e-02, 3.056e-02, 1.110e-02,\n",
       "        1.822e+01, 1.032e+03],\n",
       "       [9.904e+00, 3.024e+02, 3.716e-02, 8.116e-02, 1.197e-01, 2.460e-02,\n",
       "        1.126e+01, 3.902e+02],\n",
       "       [1.219e+01, 4.558e+02, 2.882e-02, 6.471e-02, 1.018e-02, 8.094e-03,\n",
       "        1.334e+01, 5.452e+02],\n",
       "       [1.239e+01, 4.629e+02, 2.880e-02, 6.588e-02, 4.757e-02, 1.051e-02,\n",
       "        1.418e+01, 6.005e+02],\n",
       "       [1.566e+01, 7.735e+02, 1.377e-01, 8.104e-02, 8.232e-02, 3.024e-02,\n",
       "        1.985e+01, 1.226e+03],\n",
       "       [1.149e+01, 4.049e+02, 1.969e-02, 6.574e-02, 4.156e-02, 8.038e-03,\n",
       "        1.240e+01, 4.676e+02],\n",
       "       [1.464e+01, 6.660e+02, 2.791e-02, 5.355e-02, 1.800e-02, 6.144e-03,\n",
       "        1.646e+01, 8.310e+02],\n",
       "       [1.127e+01, 3.920e+02, 2.757e-02, 7.252e-02, 9.472e-02, 2.047e-02,\n",
       "        1.204e+01, 4.500e+02],\n",
       "       [1.955e+01, 1.174e+03, 1.021e-01, 5.884e-02, 7.469e-02, 3.441e-02,\n",
       "        2.082e+01, 1.313e+03],\n",
       "       [1.570e+01, 7.666e+02, 5.189e-02, 5.549e-02, 1.954e-02, 9.767e-03,\n",
       "        2.011e+01, 1.269e+03],\n",
       "       [1.308e+01, 5.200e+02, 3.110e-02, 6.811e-02, 1.698e-02, 6.490e-03,\n",
       "        1.450e+01, 6.305e+02],\n",
       "       [1.944e+01, 1.167e+03, 1.194e-01, 6.115e-02, 4.256e-02, 1.176e-02,\n",
       "        2.396e+01, 1.740e+03],\n",
       "       [1.635e+01, 8.404e+02, 8.773e-02, 6.218e-02, 6.072e-02, 1.656e-02,\n",
       "        1.938e+01, 1.165e+03],\n",
       "       [1.321e+01, 5.379e+02, 2.068e-02, 5.584e-02, 1.510e-02, 6.451e-03,\n",
       "        1.435e+01, 6.329e+02],\n",
       "       [1.166e+01, 4.210e+02, 1.162e-02, 5.731e-02, 5.949e-03, 6.296e-03,\n",
       "        1.328e+01, 5.425e+02],\n",
       "       [1.090e+01, 3.668e+02, 6.588e-03, 5.743e-02, 1.835e-03, 3.576e-03,\n",
       "        1.236e+01, 4.700e+02],\n",
       "       [1.371e+01, 5.779e+02, 5.985e-02, 7.451e-02, 2.488e-02, 1.448e-02,\n",
       "        1.706e+01, 8.970e+02],\n",
       "       [2.309e+01, 1.682e+03, 1.003e-01, 5.484e-02, 3.976e-02, 2.156e-02,\n",
       "        3.079e+01, 2.782e+03],\n",
       "       [2.161e+01, 1.407e+03, 1.562e-01, 6.606e-02, 4.718e-02, 1.288e-02,\n",
       "        2.623e+01, 2.081e+03],\n",
       "       [1.225e+01, 4.665e+02, 1.261e-02, 5.976e-02, 9.410e-03, 4.551e-03,\n",
       "        1.417e+01, 6.229e+02],\n",
       "       [1.026e+01, 3.208e+02, 2.438e-02, 6.714e-02, 2.613e-02, 1.097e-02,\n",
       "        1.083e+01, 3.574e+02],\n",
       "       [8.950e+00, 2.452e+02, 2.308e-02, 7.163e-02, 9.263e-02, 2.308e-02,\n",
       "        9.414e+00, 2.700e+02],\n",
       "       [7.691e+00, 1.704e+02, 1.364e-02, 7.751e-02, 9.252e-02, 1.364e-02,\n",
       "        8.678e+00, 2.236e+02],\n",
       "       [8.597e+00, 2.212e+02, 0.000e+00, 7.359e-02, 0.000e+00, 0.000e+00,\n",
       "        8.952e+00, 2.401e+02],\n",
       "       [1.204e+01, 4.499e+02, 2.377e-02, 5.698e-02, 1.465e-02, 1.183e-02,\n",
       "        1.360e+01, 5.676e+02],\n",
       "       [2.110e+01, 1.384e+03, 1.155e-01, 5.661e-02, 3.185e-02, 1.466e-02,\n",
       "        2.568e+01, 2.022e+03],\n",
       "       [1.665e+01, 9.046e+02, 9.170e-02, 6.330e-02, 2.741e-02, 1.130e-02,\n",
       "        2.646e+01, 2.215e+03],\n",
       "       [1.499e+01, 6.988e+02, 2.899e-02, 5.504e-02, 1.818e-02, 1.917e-02,\n",
       "        1.499e+01, 6.988e+02],\n",
       "       [1.705e+01, 8.950e+02, 1.090e-01, 6.325e-02, 3.055e-02, 1.384e-02,\n",
       "        1.959e+01, 1.189e+03]])"
      ]
     },
     "execution_count": 35,
     "metadata": {},
     "output_type": "execute_result"
    }
   ],
   "source": [
    "X_test[['mean radius',\n",
    " 'mean area',\n",
    " 'mean concave points',\n",
    " 'mean fractal dimension',\n",
    " 'concavity error',\n",
    " 'concave points error',\n",
    " 'worst radius',\n",
    " 'worst area']].to_numpy()"
   ]
  },
  {
   "cell_type": "code",
   "execution_count": null,
   "id": "b7636b71-c6e7-4666-a94a-27689c50394b",
   "metadata": {},
   "outputs": [],
   "source": []
  }
 ],
 "metadata": {
  "environment": {
   "kernel": "conda-base-py",
   "name": "workbench-notebooks.m129",
   "type": "gcloud",
   "uri": "us-docker.pkg.dev/deeplearning-platform-release/gcr.io/workbench-notebooks:m129"
  },
  "kernelspec": {
   "display_name": "Python 3 (ipykernel) (Local)",
   "language": "python",
   "name": "conda-base-py"
  },
  "language_info": {
   "codemirror_mode": {
    "name": "ipython",
    "version": 3
   },
   "file_extension": ".py",
   "mimetype": "text/x-python",
   "name": "python",
   "nbconvert_exporter": "python",
   "pygments_lexer": "ipython3",
   "version": "3.10.16"
  }
 },
 "nbformat": 4,
 "nbformat_minor": 5
}
