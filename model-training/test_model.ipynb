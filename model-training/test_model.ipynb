{
 "cells": [
  {
   "cell_type": "code",
   "execution_count": null,
   "id": "6e453b1b-f969-4eed-9386-1b4413c0b6ca",
   "metadata": {
    "tags": []
   },
   "outputs": [],
   "source": [
    "\n",
    "import os\n",
    "import numpy as np\n",
    "import joblib\n",
    "from google.cloud import storage"
   ]
  },
  {
   "cell_type": "code",
   "execution_count": null,
   "id": "10ce05f1-103f-49ec-842e-ef60130704e8",
   "metadata": {
    "tags": []
   },
   "outputs": [],
   "source": [
    "client_storage = storage.Client()"
   ]
  },
  {
   "cell_type": "code",
   "execution_count": null,
   "id": "e3127a23-33d9-4c92-b45c-f83982650c09",
   "metadata": {
    "tags": []
   },
   "outputs": [],
   "source": [
    "bucket = client_storage.bucket('trained-models-1234')\n",
    "blob = bucket.blob('breast-cancer-model/model.pkl')\n",
    "blob.download_to_filename(os.getcwd()+'/model.pkl')"
   ]
  },
  {
   "cell_type": "code",
   "execution_count": null,
   "id": "cf4033d5-ff96-4de0-8704-8e7c193a6e9e",
   "metadata": {
    "tags": []
   },
   "outputs": [],
   "source": [
    "model = joblib.load('model.pkl')"
   ]
  },
  {
   "cell_type": "raw",
   "id": "e763b53f-42b3-4feb-b495-b901a9571921",
   "metadata": {
    "tags": []
   },
   "source": [
    "'mean radius',\n",
    " 'mean area',\n",
    " 'mean concave points',\n",
    " 'mean fractal dimension',\n",
    " 'concavity error',\n",
    " 'concave points error',\n",
    " 'worst radius',\n",
    " 'worst area'"
   ]
  },
  {
   "cell_type": "code",
   "execution_count": null,
   "id": "1ce96dcd-e195-4860-876a-e088aaab91d1",
   "metadata": {
    "tags": []
   },
   "outputs": [],
   "source": [
    "import json"
   ]
  },
  {
   "cell_type": "code",
   "execution_count": null,
   "id": "9295e944-2162-467a-b077-6e1122e46c4a",
   "metadata": {},
   "outputs": [],
   "source": [
    "1.122e+01, 3.873e+02, 7.583e-03, 6.028e-02, 3.297e-03, 4.967e-03,\n",
    "        1.198e+01, 4.361e+02"
   ]
  },
  {
   "cell_type": "code",
   "execution_count": null,
   "id": "fa12fd59-f599-48ab-9c38-72a16c418c95",
   "metadata": {
    "tags": []
   },
   "outputs": [],
   "source": [
    "json_str = \"\"\"{\n",
    "\"mean radius\": 11.22,\n",
    " \"mean area\": 387.3,\n",
    " \"mean concave points\": 0.007583,\n",
    " \"mean fractal dimension\": 0.0603,\n",
    " \"concavity error\": 0.0033,\n",
    " \"concave points error\": 0.00497,\n",
    " \"worst radius\": 11.98,\n",
    " \"worst area\": 436.1\n",
    "}\"\"\""
   ]
  },
  {
   "cell_type": "code",
   "execution_count": null,
   "id": "165fa903-0fa4-444c-b144-33a097a05965",
   "metadata": {
    "tags": []
   },
   "outputs": [],
   "source": [
    "json_vals = json.loads(json_str)"
   ]
  },
  {
   "cell_type": "code",
   "execution_count": null,
   "id": "4ea4abb5-be19-45b0-b2b8-f0536870e477",
   "metadata": {
    "tags": []
   },
   "outputs": [],
   "source": [
    "list(json_vals.values())"
   ]
  },
  {
   "cell_type": "code",
   "execution_count": null,
   "id": "d8148b3b-b41a-4845-b053-7df9415dcacc",
   "metadata": {
    "tags": []
   },
   "outputs": [],
   "source": [
    "np.array(list(json_vals.values()))"
   ]
  },
  {
   "cell_type": "code",
   "execution_count": null,
   "id": "792c7807-a951-4db7-a612-db2468654d0e",
   "metadata": {
    "tags": []
   },
   "outputs": [],
   "source": [
    "pred = model.predict(np.array(list(json_vals.values())))"
   ]
  },
  {
   "cell_type": "code",
   "execution_count": null,
   "id": "61327366-6d57-4c77-bce0-a6f753ae648d",
   "metadata": {
    "tags": []
   },
   "outputs": [],
   "source": [
    "pred.tolist()"
   ]
  },
  {
   "cell_type": "code",
   "execution_count": null,
   "id": "a553934c-de32-414b-bd69-378d70b9bf8c",
   "metadata": {
    "tags": []
   },
   "outputs": [],
   "source": [
    "list(pred.item())"
   ]
  },
  {
   "cell_type": "code",
   "execution_count": null,
   "id": "f69fafe8-bdc4-41fd-b6d8-d06fc9f775a3",
   "metadata": {
    "tags": []
   },
   "outputs": [],
   "source": [
    "import numpy as np"
   ]
  },
  {
   "cell_type": "code",
   "execution_count": null,
   "id": "2fb5ab33-d02e-4a1a-897f-f98323776b52",
   "metadata": {
    "tags": []
   },
   "outputs": [],
   "source": [
    "np.array(json_str)"
   ]
  },
  {
   "cell_type": "code",
   "execution_count": null,
   "id": "20b11fd0-dfc3-4618-85f0-51e89b8aaebb",
   "metadata": {
    "tags": []
   },
   "outputs": [],
   "source": [
    "json.load(np.array(json_str))"
   ]
  },
  {
   "cell_type": "code",
   "execution_count": null,
   "id": "9699664b-ba62-4cb9-8c2c-fce12d4a5b77",
   "metadata": {},
   "outputs": [],
   "source": []
  }
 ],
 "metadata": {
  "environment": {
   "kernel": "conda-base-py",
   "name": "workbench-notebooks.m129",
   "type": "gcloud",
   "uri": "us-docker.pkg.dev/deeplearning-platform-release/gcr.io/workbench-notebooks:m129"
  },
  "kernelspec": {
   "display_name": "Python 3 (ipykernel) (Local)",
   "language": "python",
   "name": "conda-base-py"
  },
  "language_info": {
   "codemirror_mode": {
    "name": "ipython",
    "version": 3
   },
   "file_extension": ".py",
   "mimetype": "text/x-python",
   "name": "python",
   "nbconvert_exporter": "python",
   "pygments_lexer": "ipython3",
   "version": "3.10.16"
  }
 },
 "nbformat": 4,
 "nbformat_minor": 5
}
