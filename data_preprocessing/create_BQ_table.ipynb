{
 "cells": [
  {
   "cell_type": "code",
   "execution_count": 22,
   "id": "bac54a08-4078-4586-aaaf-65e328fc2566",
   "metadata": {
    "tags": []
   },
   "outputs": [],
   "source": [
    "from google.cloud import bigquery\n",
    "from sklearn.datasets import load_breast_cancer\n",
    "import pandas as pd\n",
    "from datetime import datetime\n",
    "client = bigquery.Client()"
   ]
  },
  {
   "cell_type": "markdown",
   "id": "715af1cd-2421-4a6a-b76c-1bf8830f6a3e",
   "metadata": {},
   "source": [
    "## Create Raw data table"
   ]
  },
  {
   "cell_type": "code",
   "execution_count": 20,
   "id": "4f51e9f8-b97f-479e-9f96-db17d9b74f73",
   "metadata": {
    "tags": []
   },
   "outputs": [],
   "source": [
    "data_X, data_y = load_breast_cancer(return_X_y=True, as_frame=True)"
   ]
  },
  {
   "cell_type": "code",
   "execution_count": 21,
   "id": "33d70855-0c71-4370-b185-a73bff4c8505",
   "metadata": {
    "tags": []
   },
   "outputs": [
    {
     "name": "stdout",
     "output_type": "stream",
     "text": [
      "<class 'pandas.core.frame.DataFrame'>\n",
      "RangeIndex: 569 entries, 0 to 568\n",
      "Data columns (total 30 columns):\n",
      " #   Column                   Non-Null Count  Dtype  \n",
      "---  ------                   --------------  -----  \n",
      " 0   mean radius              569 non-null    float64\n",
      " 1   mean texture             569 non-null    float64\n",
      " 2   mean perimeter           569 non-null    float64\n",
      " 3   mean area                569 non-null    float64\n",
      " 4   mean smoothness          569 non-null    float64\n",
      " 5   mean compactness         569 non-null    float64\n",
      " 6   mean concavity           569 non-null    float64\n",
      " 7   mean concave points      569 non-null    float64\n",
      " 8   mean symmetry            569 non-null    float64\n",
      " 9   mean fractal dimension   569 non-null    float64\n",
      " 10  radius error             569 non-null    float64\n",
      " 11  texture error            569 non-null    float64\n",
      " 12  perimeter error          569 non-null    float64\n",
      " 13  area error               569 non-null    float64\n",
      " 14  smoothness error         569 non-null    float64\n",
      " 15  compactness error        569 non-null    float64\n",
      " 16  concavity error          569 non-null    float64\n",
      " 17  concave points error     569 non-null    float64\n",
      " 18  symmetry error           569 non-null    float64\n",
      " 19  fractal dimension error  569 non-null    float64\n",
      " 20  worst radius             569 non-null    float64\n",
      " 21  worst texture            569 non-null    float64\n",
      " 22  worst perimeter          569 non-null    float64\n",
      " 23  worst area               569 non-null    float64\n",
      " 24  worst smoothness         569 non-null    float64\n",
      " 25  worst compactness        569 non-null    float64\n",
      " 26  worst concavity          569 non-null    float64\n",
      " 27  worst concave points     569 non-null    float64\n",
      " 28  worst symmetry           569 non-null    float64\n",
      " 29  worst fractal dimension  569 non-null    float64\n",
      "dtypes: float64(30)\n",
      "memory usage: 133.5 KB\n"
     ]
    }
   ],
   "source": [
    "data_X.info()"
   ]
  },
  {
   "cell_type": "code",
   "execution_count": 23,
   "id": "beb307c6-1038-4933-825d-f5012d0429b8",
   "metadata": {
    "tags": []
   },
   "outputs": [
    {
     "data": {
      "text/html": [
       "<div>\n",
       "<style scoped>\n",
       "    .dataframe tbody tr th:only-of-type {\n",
       "        vertical-align: middle;\n",
       "    }\n",
       "\n",
       "    .dataframe tbody tr th {\n",
       "        vertical-align: top;\n",
       "    }\n",
       "\n",
       "    .dataframe thead th {\n",
       "        text-align: right;\n",
       "    }\n",
       "</style>\n",
       "<table border=\"1\" class=\"dataframe\">\n",
       "  <thead>\n",
       "    <tr style=\"text-align: right;\">\n",
       "      <th></th>\n",
       "      <th>mean radius</th>\n",
       "      <th>mean texture</th>\n",
       "      <th>mean perimeter</th>\n",
       "      <th>mean area</th>\n",
       "      <th>mean smoothness</th>\n",
       "      <th>mean compactness</th>\n",
       "      <th>mean concavity</th>\n",
       "      <th>mean concave points</th>\n",
       "      <th>mean symmetry</th>\n",
       "      <th>mean fractal dimension</th>\n",
       "      <th>...</th>\n",
       "      <th>worst texture</th>\n",
       "      <th>worst perimeter</th>\n",
       "      <th>worst area</th>\n",
       "      <th>worst smoothness</th>\n",
       "      <th>worst compactness</th>\n",
       "      <th>worst concavity</th>\n",
       "      <th>worst concave points</th>\n",
       "      <th>worst symmetry</th>\n",
       "      <th>worst fractal dimension</th>\n",
       "      <th>insert_date</th>\n",
       "    </tr>\n",
       "  </thead>\n",
       "  <tbody>\n",
       "    <tr>\n",
       "      <th>0</th>\n",
       "      <td>17.99</td>\n",
       "      <td>10.38</td>\n",
       "      <td>122.8</td>\n",
       "      <td>1001.0</td>\n",
       "      <td>0.11840</td>\n",
       "      <td>0.27760</td>\n",
       "      <td>0.3001</td>\n",
       "      <td>0.14710</td>\n",
       "      <td>0.2419</td>\n",
       "      <td>0.07871</td>\n",
       "      <td>...</td>\n",
       "      <td>17.33</td>\n",
       "      <td>184.6</td>\n",
       "      <td>2019.0</td>\n",
       "      <td>0.1622</td>\n",
       "      <td>0.6656</td>\n",
       "      <td>0.7119</td>\n",
       "      <td>0.2654</td>\n",
       "      <td>0.4601</td>\n",
       "      <td>0.11890</td>\n",
       "      <td>2025-06-28 14:49:04.786939+00:00</td>\n",
       "    </tr>\n",
       "    <tr>\n",
       "      <th>1</th>\n",
       "      <td>20.57</td>\n",
       "      <td>17.77</td>\n",
       "      <td>132.9</td>\n",
       "      <td>1326.0</td>\n",
       "      <td>0.08474</td>\n",
       "      <td>0.07864</td>\n",
       "      <td>0.0869</td>\n",
       "      <td>0.07017</td>\n",
       "      <td>0.1812</td>\n",
       "      <td>0.05667</td>\n",
       "      <td>...</td>\n",
       "      <td>23.41</td>\n",
       "      <td>158.8</td>\n",
       "      <td>1956.0</td>\n",
       "      <td>0.1238</td>\n",
       "      <td>0.1866</td>\n",
       "      <td>0.2416</td>\n",
       "      <td>0.1860</td>\n",
       "      <td>0.2750</td>\n",
       "      <td>0.08902</td>\n",
       "      <td>2025-06-28 14:49:04.786939+00:00</td>\n",
       "    </tr>\n",
       "  </tbody>\n",
       "</table>\n",
       "<p>2 rows × 31 columns</p>\n",
       "</div>"
      ],
      "text/plain": [
       "   mean radius  mean texture  mean perimeter  mean area  mean smoothness  \\\n",
       "0        17.99         10.38           122.8     1001.0          0.11840   \n",
       "1        20.57         17.77           132.9     1326.0          0.08474   \n",
       "\n",
       "   mean compactness  mean concavity  mean concave points  mean symmetry  \\\n",
       "0           0.27760          0.3001              0.14710         0.2419   \n",
       "1           0.07864          0.0869              0.07017         0.1812   \n",
       "\n",
       "   mean fractal dimension  ...  worst texture  worst perimeter  worst area  \\\n",
       "0                 0.07871  ...          17.33            184.6      2019.0   \n",
       "1                 0.05667  ...          23.41            158.8      1956.0   \n",
       "\n",
       "   worst smoothness  worst compactness  worst concavity  worst concave points  \\\n",
       "0            0.1622             0.6656           0.7119                0.2654   \n",
       "1            0.1238             0.1866           0.2416                0.1860   \n",
       "\n",
       "   worst symmetry  worst fractal dimension                      insert_date  \n",
       "0          0.4601                  0.11890 2025-06-28 14:49:04.786939+00:00  \n",
       "1          0.2750                  0.08902 2025-06-28 14:49:04.786939+00:00  \n",
       "\n",
       "[2 rows x 31 columns]"
      ]
     },
     "execution_count": 23,
     "metadata": {},
     "output_type": "execute_result"
    }
   ],
   "source": [
    "data_X['insert_date'] = pd.to_datetime(datetime.now(), utc=True)\n",
    "data_X.head(2)"
   ]
  },
  {
   "cell_type": "code",
   "execution_count": 25,
   "id": "89a5ffa0-5f92-436e-9afa-71b56b219332",
   "metadata": {
    "tags": []
   },
   "outputs": [
    {
     "data": {
      "text/plain": [
       "[SchemaField('mean radius', 'FLOAT64', 'NULLABLE', None, None, (), None),\n",
       " SchemaField('mean texture', 'FLOAT64', 'NULLABLE', None, None, (), None),\n",
       " SchemaField('mean perimeter', 'FLOAT64', 'NULLABLE', None, None, (), None),\n",
       " SchemaField('mean area', 'FLOAT64', 'NULLABLE', None, None, (), None),\n",
       " SchemaField('mean smoothness', 'FLOAT64', 'NULLABLE', None, None, (), None),\n",
       " SchemaField('mean compactness', 'FLOAT64', 'NULLABLE', None, None, (), None),\n",
       " SchemaField('mean concavity', 'FLOAT64', 'NULLABLE', None, None, (), None),\n",
       " SchemaField('mean concave points', 'FLOAT64', 'NULLABLE', None, None, (), None),\n",
       " SchemaField('mean symmetry', 'FLOAT64', 'NULLABLE', None, None, (), None),\n",
       " SchemaField('mean fractal dimension', 'FLOAT64', 'NULLABLE', None, None, (), None),\n",
       " SchemaField('radius error', 'FLOAT64', 'NULLABLE', None, None, (), None),\n",
       " SchemaField('texture error', 'FLOAT64', 'NULLABLE', None, None, (), None),\n",
       " SchemaField('perimeter error', 'FLOAT64', 'NULLABLE', None, None, (), None),\n",
       " SchemaField('area error', 'FLOAT64', 'NULLABLE', None, None, (), None),\n",
       " SchemaField('smoothness error', 'FLOAT64', 'NULLABLE', None, None, (), None),\n",
       " SchemaField('compactness error', 'FLOAT64', 'NULLABLE', None, None, (), None),\n",
       " SchemaField('concavity error', 'FLOAT64', 'NULLABLE', None, None, (), None),\n",
       " SchemaField('concave points error', 'FLOAT64', 'NULLABLE', None, None, (), None),\n",
       " SchemaField('symmetry error', 'FLOAT64', 'NULLABLE', None, None, (), None),\n",
       " SchemaField('fractal dimension error', 'FLOAT64', 'NULLABLE', None, None, (), None),\n",
       " SchemaField('worst radius', 'FLOAT64', 'NULLABLE', None, None, (), None),\n",
       " SchemaField('worst texture', 'FLOAT64', 'NULLABLE', None, None, (), None),\n",
       " SchemaField('worst perimeter', 'FLOAT64', 'NULLABLE', None, None, (), None),\n",
       " SchemaField('worst area', 'FLOAT64', 'NULLABLE', None, None, (), None),\n",
       " SchemaField('worst smoothness', 'FLOAT64', 'NULLABLE', None, None, (), None),\n",
       " SchemaField('worst compactness', 'FLOAT64', 'NULLABLE', None, None, (), None),\n",
       " SchemaField('worst concavity', 'FLOAT64', 'NULLABLE', None, None, (), None),\n",
       " SchemaField('worst concave points', 'FLOAT64', 'NULLABLE', None, None, (), None),\n",
       " SchemaField('worst symmetry', 'FLOAT64', 'NULLABLE', None, None, (), None),\n",
       " SchemaField('worst fractal dimension', 'FLOAT64', 'NULLABLE', None, None, (), None),\n",
       " SchemaField('insert_date', 'TIMESTAMP', 'NULLABLE', None, None, (), None)]"
      ]
     },
     "execution_count": 25,
     "metadata": {},
     "output_type": "execute_result"
    }
   ],
   "source": [
    "schema = []\n",
    "for col in data_X.columns:\n",
    "    if col == 'insert_date': \n",
    "        schema.append(bigquery.SchemaField(col, \"TIMESTAMP\"))\n",
    "        continue\n",
    "    schema.append(bigquery.SchemaField(col, \"FLOAT64\"))\n",
    "schema"
   ]
  },
  {
   "cell_type": "code",
   "execution_count": 27,
   "id": "9597b561-af28-4167-b539-2cd5eeca0fb7",
   "metadata": {
    "tags": []
   },
   "outputs": [
    {
     "name": "stdout",
     "output_type": "stream",
     "text": [
      "Created table elated-effect-464110-f2.breast_cancer_dataset.raw_data\n"
     ]
    }
   ],
   "source": [
    "table_id = \"elated-effect-464110-f2.breast_cancer_dataset.raw_data\"\n",
    "table = bigquery.Table(table_id, schema=schema)\n",
    "table.time_partitioning = bigquery.TimePartitioning(\n",
    "    type_= bigquery.TimePartitioningType.DAY,\n",
    "    field=\"insert_date\",  \n",
    ") \n",
    "\n",
    "table = client.create_table(table)\n",
    "print(\n",
    "    \"Created table {}.{}.{}\".format(table.project, table.dataset_id, table.table_id)\n",
    ")"
   ]
  },
  {
   "cell_type": "markdown",
   "id": "5956aca2-788a-4268-9dfe-e3c91506fff6",
   "metadata": {},
   "source": [
    "## Create input_data table"
   ]
  },
  {
   "cell_type": "code",
   "execution_count": 28,
   "id": "bcf217da-1ee5-4acc-9762-1ee094e4fdb7",
   "metadata": {
    "tags": []
   },
   "outputs": [],
   "source": [
    "input_data = data_X[['mean radius',\n",
    " 'mean area',\n",
    " 'mean concave points',\n",
    " 'mean fractal dimension',\n",
    " 'concavity error',\n",
    " 'concave points error',\n",
    " 'worst radius',\n",
    " 'worst area', \n",
    "                    'insert_date']]"
   ]
  },
  {
   "cell_type": "code",
   "execution_count": 29,
   "id": "b3359ff3-5b3c-4529-95f0-dcd217f9f108",
   "metadata": {
    "tags": []
   },
   "outputs": [
    {
     "data": {
      "text/plain": [
       "[SchemaField('mean radius', 'FLOAT64', 'NULLABLE', None, None, (), None),\n",
       " SchemaField('mean area', 'FLOAT64', 'NULLABLE', None, None, (), None),\n",
       " SchemaField('mean concave points', 'FLOAT64', 'NULLABLE', None, None, (), None),\n",
       " SchemaField('mean fractal dimension', 'FLOAT64', 'NULLABLE', None, None, (), None),\n",
       " SchemaField('concavity error', 'FLOAT64', 'NULLABLE', None, None, (), None),\n",
       " SchemaField('concave points error', 'FLOAT64', 'NULLABLE', None, None, (), None),\n",
       " SchemaField('worst radius', 'FLOAT64', 'NULLABLE', None, None, (), None),\n",
       " SchemaField('worst area', 'FLOAT64', 'NULLABLE', None, None, (), None),\n",
       " SchemaField('insert_date', 'TIMESTAMP', 'NULLABLE', None, None, (), None)]"
      ]
     },
     "execution_count": 29,
     "metadata": {},
     "output_type": "execute_result"
    }
   ],
   "source": [
    "schema = []\n",
    "for col in input_data.columns:\n",
    "    if col == 'insert_date': \n",
    "        schema.append(bigquery.SchemaField(col, \"TIMESTAMP\"))\n",
    "        continue\n",
    "    schema.append(bigquery.SchemaField(col, \"FLOAT64\"))\n",
    "schema"
   ]
  },
  {
   "cell_type": "code",
   "execution_count": 30,
   "id": "077d7030-23ec-4af6-ac24-83083ca7234a",
   "metadata": {
    "tags": []
   },
   "outputs": [
    {
     "name": "stdout",
     "output_type": "stream",
     "text": [
      "Created table elated-effect-464110-f2.breast_cancer_dataset.input_data\n"
     ]
    }
   ],
   "source": [
    "table_id = \"elated-effect-464110-f2.breast_cancer_dataset.input_data\"\n",
    "table = bigquery.Table(table_id, schema=schema)\n",
    "table.time_partitioning = bigquery.TimePartitioning(\n",
    "    type_= bigquery.TimePartitioningType.DAY,\n",
    "    field=\"insert_date\",  \n",
    ") \n",
    "table = client.create_table(table)\n",
    "print(\n",
    "    \"Created table {}.{}.{}\".format(table.project, table.dataset_id, table.table_id)\n",
    ")"
   ]
  },
  {
   "cell_type": "markdown",
   "id": "93c1867a-5d41-4516-9194-702ec8816f0a",
   "metadata": {},
   "source": [
    "## Create predicted dataset"
   ]
  },
  {
   "cell_type": "code",
   "execution_count": 14,
   "id": "99e9a4e6-542c-4121-b2a5-5bdf0900c0f5",
   "metadata": {
    "tags": []
   },
   "outputs": [],
   "source": [
    "schema.append(bigquery.SchemaField('predictions', \"BOOL\"))"
   ]
  },
  {
   "cell_type": "code",
   "execution_count": 15,
   "id": "f85ea339-17d4-4e5e-b4d1-7f13fb83255d",
   "metadata": {
    "tags": []
   },
   "outputs": [
    {
     "name": "stdout",
     "output_type": "stream",
     "text": [
      "Created table elated-effect-464110-f2.breast_cancer_dataset.final_table\n"
     ]
    }
   ],
   "source": [
    "table_id = \"elated-effect-464110-f2.breast_cancer_dataset.final_table\"\n",
    "table = bigquery.Table(table_id, schema=schema)\n",
    "table = client.create_table(table)\n",
    "print(\n",
    "    \"Created table {}.{}.{}\".format(table.project, table.dataset_id, table.table_id)\n",
    ")"
   ]
  },
  {
   "cell_type": "code",
   "execution_count": 16,
   "id": "de241360-bf20-46fd-bfee-f1da4e11ca0d",
   "metadata": {
    "tags": []
   },
   "outputs": [
    {
     "data": {
      "text/plain": [
       "'mean radius, mean area, mean concave points, mean fractal dimension, concavity error, concave points error, worst radius, worst area'"
      ]
     },
     "execution_count": 16,
     "metadata": {},
     "output_type": "execute_result"
    }
   ],
   "source": [
    "', '.join(['mean radius',\n",
    " 'mean area',\n",
    " 'mean concave points',\n",
    " 'mean fractal dimension',\n",
    " 'concavity error',\n",
    " 'concave points error',\n",
    " 'worst radius',\n",
    " 'worst area'])"
   ]
  },
  {
   "cell_type": "code",
   "execution_count": null,
   "id": "8a06828e-244d-4b26-82f1-6023e7860720",
   "metadata": {},
   "outputs": [],
   "source": []
  }
 ],
 "metadata": {
  "environment": {
   "kernel": "conda-base-py",
   "name": "workbench-notebooks.m130",
   "type": "gcloud",
   "uri": "us-docker.pkg.dev/deeplearning-platform-release/gcr.io/workbench-notebooks:m130"
  },
  "kernelspec": {
   "display_name": "Python 3 (ipykernel) (Local)",
   "language": "python",
   "name": "conda-base-py"
  },
  "language_info": {
   "codemirror_mode": {
    "name": "ipython",
    "version": 3
   },
   "file_extension": ".py",
   "mimetype": "text/x-python",
   "name": "python",
   "nbconvert_exporter": "python",
   "pygments_lexer": "ipython3",
   "version": "3.10.18"
  }
 },
 "nbformat": 4,
 "nbformat_minor": 5
}
